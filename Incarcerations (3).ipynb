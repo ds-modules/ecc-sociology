{
 "cells": [
  {
   "cell_type": "code",
   "execution_count": null,
   "id": "05d17a56",
   "metadata": {
    "deletable": false,
    "editable": false
   },
   "outputs": [],
   "source": [
    "# Initialize Otter\n",
    "import otter\n",
    "grader = otter.Notebook(\"Incarcerations.ipynb\")"
   ]
  },
  {
   "cell_type": "markdown",
   "id": "6a0e4251-db39-4ca1-86cd-6bd4ccd96e71",
   "metadata": {},
   "source": [
    "# Incarnations and Race\n",
    " \n",
    "---\n",
    "\n",
    "\n",
    "You will be learning about events in hsitory that have impacted incarceration rates and diffrent races. \n",
    "\n",
    "\n",
    "*Estimated Time: ~30 Minutes*\n",
    "\n",
    "---\n",
    "1. Introduction to Data\n",
    "    \n",
    "    a. Overview of Data Table\n",
    "    \n",
    "    b. Explanation of Table Columns\n",
    "    \n",
    "    c. Question 1\n",
    "\n",
    "    d. First look \n",
    "\n",
    "    \n",
    "2. War on Drugs\n",
    "    \n",
    "    a. Introduction to the War on Drugs\n",
    "    \n",
    "    b. Crack vs. Cocaine\n",
    "    \n",
    "    c. Growth Rate of Drug Use\n",
    "    \n",
    "    d. Question 2\n",
    "    \n",
    "    e. 1990's Drug Drop\n",
    "    \n",
    "    f. Percent of Arrests by Population\n",
    "    \n",
    "    g. Question 3 and 4\n",
    "\n",
    "    \n",
    "3. Redlining\n",
    "    \n",
    "    a. County-Level Data\n",
    "    \n",
    "    b. Historical Context of Redlining in Counties\n",
    "\n",
    "    c. Question 5 \n",
    "    \n",
    "4. Sources \n",
    " "
   ]
  },
  {
   "cell_type": "markdown",
   "id": "d364d118-af80-4b09-b416-6372ea086236",
   "metadata": {},
   "source": [
    "# Helper Video\n",
    "\n",
    "##### use the following link for a follow along style video to help guide you through the notebook \n",
    "\n",
    "https://www.youtube.com/watch?v=X2NvxzQ2CvI"
   ]
  },
  {
   "cell_type": "markdown",
   "id": "61961c87-7bcf-456f-b2c8-3b4dfdd9313c",
   "metadata": {},
   "source": [
    "# Introduction "
   ]
  },
  {
   "cell_type": "markdown",
   "id": "a5d76fca-9b80-4fb1-a0df-9f69c4f0cb07",
   "metadata": {},
   "source": [
    "### Import Libraries \n",
    "To start off with we need to load in some libraries, things like Numpy that we learned. Run the cell below to do so"
   ]
  },
  {
   "cell_type": "code",
   "execution_count": null,
   "id": "0878bd54-237e-40cc-b7cb-ff1cce809a0c",
   "metadata": {},
   "outputs": [],
   "source": [
    "from datascience import * # Loads functions from the datascience library into our current environment\n",
    "import numpy as np # Loads numerical functions\n",
    "import math, random # Loads math and random functions\n",
    "import pandas as pd \n",
    "import matplotlib.pyplot as plt\n",
    "import seaborn as sns\n",
    "from IPython.display import display, Latex, Markdown\n",
    "%matplotlib inline\n",
    "import plotly.express as px\n",
    "import ipywidgets as widgets\n",
    "from IPython.display import display\n",
    "from ipywidgets import interact\n",
    "import warnings\n",
    "warnings.filterwarnings('ignore')\n",
    "import helper as hp\n"
   ]
  },
  {
   "cell_type": "markdown",
   "id": "7d3474d2-df13-4046-9f1d-5ba892df3571",
   "metadata": {},
   "source": [
    "### Data \n",
    "The Department of Justice (DOJ) Criminal Justice Statistics Center (CJSC) collects information on arrests\n",
    "and citations (from now on referred to as “arrest(s)”) as reported by law enforcement agencies (LEA)\n",
    "throughout the state. The Monthly Arrest and Citation Register (MACR) data are reported monthly by\n",
    "law enforcement agencies (LEAs) throughout the state. Summary arrest counts are submitted to the\n",
    "Federal Bureau of Investigation’s (FBI), Uniform Crime Reporting Program (UCR). Arrest data provides\n",
    "information on felony and misdemeanor level arrests for adults and juveniles and status offenses (e.g.,\n",
    "truancy, incorrigibility, running away, and curfew violations) for juveniles. Arrest data includes\n",
    "aggregated arrest counts by reporting county, age, gender, and race/ethnic group of arrestee, while\n",
    "the Arrest Disposition data also includes the law enforcement disposition. \n",
    "\n",
    "\n",
    "Run the cell bellow to load in our data and look at the first couple of rows, and see the columns "
   ]
  },
  {
   "cell_type": "code",
   "execution_count": null,
   "id": "1d501274-5ec3-457b-84e0-bb3401b19bf6",
   "metadata": {},
   "outputs": [],
   "source": [
    "arrest = hp.arrest\n",
    "arrest"
   ]
  },
  {
   "cell_type": "markdown",
   "id": "3f0c8e5d-258c-462e-8c49-7e4fda61cd22",
   "metadata": {},
   "source": [
    "Run the next cell below to see our columns "
   ]
  },
  {
   "cell_type": "code",
   "execution_count": null,
   "id": "9b5badca-0096-45df-9ce8-7e5288e2c24d",
   "metadata": {},
   "outputs": [],
   "source": [
    "print(arrest.columns)"
   ]
  },
  {
   "cell_type": "markdown",
   "id": "1f779965-9a34-4c5a-82b2-1db36db5f082",
   "metadata": {},
   "source": [
    "### Review of Column Labels and Their Descriptions\n",
    "\n",
    "Year – The year, ranging from 1980 to 2023.\n",
    "\n",
    "Gender – Data collected includes only two categories of gender: male and female.\n",
    "\n",
    "Race – Categorized as White, Black, Hispanic, and Other.\n",
    "\n",
    "Age Group – Grouped as: Under 18; \n",
    "                        18-19;\n",
    "                        20-29;\n",
    "                        30-39;\n",
    "                        40-69;\n",
    "                        70+\n",
    "\n",
    "County – The county in California from which the data was collected.\n",
    "\n",
    "Violent – The number of crimes classified as violent felonies.\n",
    "\n",
    "Property – The number of crimes classified as property felonies.\n",
    "\n",
    "F_Drugoff – The number of crimes classified as drug felonies.\n",
    "\n",
    "F_Sexoff – The number of crimes classified as sex felonies.\n",
    "\n",
    "F_ALLOTHER – Other felonies that were not properly classified.\n",
    "\n",
    "F_Totalsum – The total sum of all felony arrests.\n",
    "\n",
    "M_Totalsum – The total sum of all misdemeanor arrests.\n",
    "\n",
    "S_Total – The total sum of status offenses.\n",
    "\n",
    "Sum Total – The total number of arrests.\n"
   ]
  },
  {
   "cell_type": "markdown",
   "id": "9ab81660-3739-4d5c-abde-e9fb4e130a63",
   "metadata": {
    "deletable": false,
    "editable": false
   },
   "source": [
    "<!-- BEGIN QUESTION -->\n",
    "\n",
    "### <span style=\"color: blue;\">Question One</span>\n",
    "In 2-3 sentences, summarize what this data represents using the information above, the column labels, and the snippet of the data table. Explain what each row represents and highlight any personal interests you have in the data."
   ]
  },
  {
   "cell_type": "markdown",
   "id": "23bcbbc4",
   "metadata": {
    "tags": [
     "otter_answer_cell"
    ]
   },
   "source": [
    "_Type your answer here, replacing this text._"
   ]
  },
  {
   "cell_type": "markdown",
   "id": "85f2ea34-16c9-4784-96f7-c79abf2ed48c",
   "metadata": {
    "deletable": false,
    "editable": false
   },
   "source": [
    "<!-- END QUESTION -->\n",
    "\n",
    "## First look at data \n",
    "In the cell below, you'll find a widget that displays the number of drug arrests by year. This widget allows you to interact with the data and select the range of years you'd like to explore. In the following cell, adjust the slider to examine trends over the years of all Fellony Arrests "
   ]
  },
  {
   "cell_type": "code",
   "execution_count": null,
   "id": "79d6295a-0314-4d13-bb37-cd1f33655c5a",
   "metadata": {},
   "outputs": [],
   "source": [
    "display(widgets.interactive(lambda years : hp.plot_arrest(arrest, years), years= hp.year_slider))"
   ]
  },
  {
   "cell_type": "markdown",
   "id": "1b064524-e523-4ed6-b94d-685ee1a66c9a",
   "metadata": {},
   "source": [
    "# War On Drugs \n",
    "\n",
    "## Intro\n",
    "The War on Drugs, launched in the 1970s and intensified in the 1980s, led to a surge in drug arrests by 1990 due to harsh federal policies like the Anti-Drug Abuse Acts of 1986 and 1988. As a result, 1990 saw a spike in drug possession arrests, particularly among minorities, contributing to the long-term trend of mass incarceration in the U.S.\n",
    "\n",
    "This next widget allows you to explore drug arrest trends adjust the widget to see how the War on Drugs influenced overall drug arrests, based on the timing of legislation.\n",
    "\n"
   ]
  },
  {
   "cell_type": "code",
   "execution_count": null,
   "id": "5f4118f0-0446-4c5c-ba24-e6aa4b284515",
   "metadata": {},
   "outputs": [],
   "source": [
    "display(widgets.interactive(lambda years : hp.plot_drug_arrest(arrest, years), years= hp.year_slider))"
   ]
  },
  {
   "cell_type": "markdown",
   "id": "d8eac1cb-fe35-45ad-8346-96c7d994408b",
   "metadata": {},
   "source": [
    "## Race Impacts\n",
    "\n",
    "### Crack vs Powder Cocaine\n",
    "Look at your reading to get information on how the war of drugs impacted diffrent races and the impacts of crack vs powder cocaine\n",
    "\n",
    "\n",
    "In the next cell, use the dropdown to select the race you'd like to display, and try to observe the differences. You can also adjust the year range— we recommend setting it from 1980 to 1990.\n"
   ]
  },
  {
   "cell_type": "code",
   "execution_count": null,
   "id": "e347f157-b698-4cc7-be46-24cefeb983d7",
   "metadata": {},
   "outputs": [],
   "source": [
    "display(widgets.interactive(lambda years, race : hp.drug_plot_race(arrest, years, race), years= hp.year_slider, race= hp.race_dropdown))"
   ]
  },
  {
   "cell_type": "markdown",
   "id": "cee7d9cb-8cff-4665-8d6e-7e02cf8d2e11",
   "metadata": {},
   "source": [
    "It's challenging to compare different races on separate graphs, but as data scientists, this is something we need to do. To make it easier, we create overlapping graphs. Using the widget below, select the races you want to graph together (make sure to view all of them together in the end). You can also adjust the year range— we recommend setting it from 1980 to 1990. \n",
    "\n",
    "Warning: The graph will only plot/ update if you have selcted a race/races and shifited the year slider. So everytime you make a new selection(s) move the year widget to display the corresponding plot. "
   ]
  },
  {
   "cell_type": "code",
   "execution_count": null,
   "id": "24d5a151-ef9a-4eff-bac6-6f2616c35577",
   "metadata": {},
   "outputs": [],
   "source": [
    "display(widgets.VBox(hp.checkboxes), widgets.interactive(lambda years: hp.plot_races(arrest, years), years= hp.year_slider))"
   ]
  },
  {
   "cell_type": "markdown",
   "id": "3b237fc9-77ff-47ca-9685-fc0c6fe7551b",
   "metadata": {},
   "source": [
    "### Rate of Growth \n",
    "\n",
    "Getting numbers. It's nice to see things visualy but let's see statisicult how much arrest went up for each race from 1980's to 1989. Use the drop down to display the various percent growth rates."
   ]
  },
  {
   "cell_type": "code",
   "execution_count": null,
   "id": "8f88bba9-87a2-4dc8-87b5-88d7ad6a705f",
   "metadata": {},
   "outputs": [],
   "source": [
    "display(widgets.interactive(lambda race : hp.drug_percentage_increase(arrest, race), race= hp.race_dropdown))"
   ]
  },
  {
   "cell_type": "markdown",
   "id": "fd0d2765-3827-4b06-bc34-e493e710a5b7",
   "metadata": {
    "deletable": false,
    "editable": false
   },
   "source": [
    "<!-- BEGIN QUESTION -->\n",
    "\n",
    "### <span style=\"color: blue;\">Question Two</span>\n",
    "How did the War on Drugs impact incarceration numbers? How did it affect different races? Black people made up around 7%, white poeple made up 60%, Hispanic people made up 25% of California's population in the 1980s and 1990s—how does this influence your understanding of the data? Answer in the cell below \n",
    "\n",
    "Stats of Race Percent Population in 1980's Again: \n",
    "\n",
    "    White (Non-Hispanic): Approximately 60%\n",
    "\n",
    "    Hispanic or Latino: Around 25%\n",
    "\n",
    "    Black or African American: About 7%\n",
    "\n",
    "    Asian: Roughly 4-5%\n"
   ]
  },
  {
   "cell_type": "markdown",
   "id": "3babf55a",
   "metadata": {
    "tags": [
     "otter_answer_cell"
    ]
   },
   "source": [
    "_Type your answer here, replacing this text._"
   ]
  },
  {
   "cell_type": "markdown",
   "id": "50cd9fd6-ee1f-49de-b6c2-3ac8ea7f6d8b",
   "metadata": {
    "deletable": false,
    "editable": false
   },
   "source": [
    "<!-- END QUESTION -->\n",
    "\n",
    "## 90's Drug Arrest Drop \n",
    "In the early 1990s, law enforcement in California and across the U.S. shifted its focus from low-level drug offenses to violent crime and gang-related activity. Additionally, California’s Three Strikes Law was enacted in 1994. As a result, while drug-related arrests declined, overall incarceration rates remained high due to the crackdown on repeat offenders.\n",
    "\n",
    "Use the widget below to see how total felony arrests have changed over the years compared to drug-related felony arrests during this period (1994). To see if we see a the trend of drug-related arrests declined while overall incarceration rates remained high due to the crackdown on repeat offenders."
   ]
  },
  {
   "cell_type": "code",
   "execution_count": null,
   "id": "e56d8782-cfd5-46e8-be87-9cc2b0f60e93",
   "metadata": {},
   "outputs": [],
   "source": [
    "display(widgets.interactive(lambda arrest_type, years : hp.plot_type_arrest(arrest,arrest_type, years), arrest_type= hp.arrest_dropdown, years=hp.year_slider))"
   ]
  },
  {
   "cell_type": "markdown",
   "id": "3bcd3d44-fca9-4a90-90dd-864233ea1cff",
   "metadata": {},
   "source": [
    "Now to see the relationship between drug arrest vs violence arrest observe the violence arrest graph below"
   ]
  },
  {
   "cell_type": "code",
   "execution_count": null,
   "id": "b5f4bbed-57e7-485b-91d4-5ae932047fb1",
   "metadata": {},
   "outputs": [],
   "source": [
    "display(widgets.interactive(lambda years : hp.plot_violence(arrest, years, overlay= True), years=hp.year_slider))"
   ]
  },
  {
   "cell_type": "markdown",
   "id": "330041ff-0b03-44a5-9908-7e381edd6c36",
   "metadata": {},
   "source": [
    "## Arrest Rates Compared to Population Distribution\n",
    "As we said before we don't get a full picture before because the poulation distribustion for each race is not taken into account. In this next section we will be working with the follwing data set that displays the arrest rates for different racial groups compare to their share of the total population in that year. Play the next cell to display the data. "
   ]
  },
  {
   "cell_type": "code",
   "execution_count": null,
   "id": "5be4a4b9-f0a0-4c1b-893a-773e49654090",
   "metadata": {},
   "outputs": [],
   "source": [
    "extended_arrest= hp.type_arrest(\"Sum Total\")\n",
    "extended_arrest"
   ]
  },
  {
   "cell_type": "markdown",
   "id": "342eb706-2f74-40c9-9b59-1fbc6eaedb79",
   "metadata": {},
   "source": [
    "Play the next cell and use the dropdown to view the Percent Arrests for different year"
   ]
  },
  {
   "cell_type": "code",
   "execution_count": null,
   "id": "d2cf6792-33bf-429d-a2eb-962e2df7b2c9",
   "metadata": {},
   "outputs": [],
   "source": [
    "display(widgets.interactive(lambda year : hp.bar_arrest(extended_arrest, year),  year=hp.year_dropdown))"
   ]
  },
  {
   "cell_type": "markdown",
   "id": "613d637c-3301-46c6-8032-0684a57b633c",
   "metadata": {},
   "source": [
    "It's hard to see the changes over the years with the distribution above, so play the next cell to view data across multiple years for each race. Use the slider to adjust the year range. To zoom in on the bars for each race, hover over the graph, then click and drag. To zoom out, just double-click."
   ]
  },
  {
   "cell_type": "code",
   "execution_count": null,
   "id": "c1063514-256b-44a2-9729-3598311320c8",
   "metadata": {},
   "outputs": [],
   "source": [
    "display(widgets.interactive(lambda year : hp.bar_years(extended_arrest, year),  year=hp.year_selector))"
   ]
  },
  {
   "cell_type": "markdown",
   "id": "0bf48667-1841-41e0-9cc7-7d25cdb72029",
   "metadata": {
    "deletable": false,
    "editable": false
   },
   "source": [
    "<!-- BEGIN QUESTION -->\n",
    "\n",
    "### <span style=\"color: blue;\">Question Three</span>\n",
    "Interact with the data by hovering over the bars to see specific information for each year and race. Identify the year when the Percent Arrests was highest and lowest for each race. If comparing the bars is difficult, use the zoom-in function described above to make it easier.\n",
    "how does arrest rate by race, copare to that racial percentage/ over or under rep."
   ]
  },
  {
   "cell_type": "markdown",
   "id": "a2e5bbfa",
   "metadata": {
    "tags": [
     "otter_answer_cell"
    ]
   },
   "source": [
    "_Type your answer here, replacing this text._"
   ]
  },
  {
   "cell_type": "markdown",
   "id": "3874a5f5-f965-4bcb-bde3-2de1873bc689",
   "metadata": {
    "deletable": false,
    "editable": false
   },
   "source": [
    "<!-- END QUESTION -->\n",
    "\n",
    "Lastly, we can compare the distributions of Percent Arrests by Race using a box plot. Play the next cell to display it."
   ]
  },
  {
   "cell_type": "code",
   "execution_count": null,
   "id": "3789907a-f9c8-4ccb-aac2-b821f121974e",
   "metadata": {},
   "outputs": [],
   "source": [
    "hp.box_arrest(extended_arrest)"
   ]
  },
  {
   "cell_type": "markdown",
   "id": "7b2da944-ac5d-46e1-8a74-d0fbfbe96e41",
   "metadata": {
    "deletable": false,
    "editable": false
   },
   "source": [
    "<!-- BEGIN QUESTION -->\n",
    "\n",
    "### <span style=\"color: blue;\">Question Four</span>\n",
    "Using data science, there are many ways to analyze data and identify patterns, as we did in this section. With the four methods of displaying data above (table, single bar chart, grouped bar chart, and box plot), consider the following questions, and answer below: \n",
    "\n",
    "1. Which display of data was your favorite and why? In what ways was it the most helpful, and where did it fall short?\n",
    "2. How did looking at the percent per race compare to just viewing the raw numbers?\n",
    "3. Which visualization made it easiest to compare trends over multiple years? Why?\n",
    "4. How did the box plot help in understanding the spread and variation in the data compared to the bar charts?\n",
    "5. If you were to analyze a different dataset, which of these methods would you choose, and would you use any additional visualizations?"
   ]
  },
  {
   "cell_type": "markdown",
   "id": "6821df17",
   "metadata": {
    "tags": [
     "otter_answer_cell"
    ]
   },
   "source": [
    "_Type your answer here, replacing this text._"
   ]
  },
  {
   "cell_type": "markdown",
   "id": "8e10a774-a6fd-463a-b14e-c973a3890d55",
   "metadata": {
    "deletable": false,
    "editable": false
   },
   "source": [
    "<!-- END QUESTION -->\n",
    "\n",
    "# Redlining and Gentrification\n",
    "\n",
    "Use the widget below to display felony arrests across different counties. Explore the data and make some initial observations. Consider:"
   ]
  },
  {
   "cell_type": "code",
   "execution_count": null,
   "id": "f50776db-9197-4c55-b302-db319a16d0fa",
   "metadata": {},
   "outputs": [],
   "source": [
    "display(widgets.interactive(lambda x : hp.map_f_arrest(arrest, x), x=hp.county_dropdown))"
   ]
  },
  {
   "cell_type": "markdown",
   "id": "b643a846-adc7-4a61-9b40-fe4de37f4d1e",
   "metadata": {},
   "source": [
    "Data science is a powerful tool, but it doesn't always have access to the full picture. In the case of gentrification and its effects on crime, for example, we might rely on county-level data to track trends, but these broader datasets can miss the nuances that are essential for a complete understanding. County-level data may show a decrease in crime rates, but that doesn’t account for the displacement of marginalized communities, the rise in surveillance, or the social upheaval occurring at the neighborhood level. To draw more accurate and truthful conclusions, data scientists need to recognize the gaps in their data and acknowledge the context these numbers exist within. Without considering the underlying social dynamics, such as increased policing, changes in community structure, and economic pressures, the analysis can paint an incomplete picture. Understanding these limitations and the broader context is essential for drawing more accurate insights and making informed, responsible decisions.\n",
    "\n",
    "To-do: Choose a couple of the counties below and read about how gentrification has impacted them. Then, use the widget above to explore the data and make observations. How does the historical information provided align with the trends shown? In what ways?\n",
    "\n",
    "### County information\n",
    "1. San Francisco County\n",
    "Gentrification Start: Early 1990s\n",
    "San Francisco’s neighborhoods like the Mission District, Tenderloin, and Bayview-Hunters Point have seen significant gentrification, driven by tech industry growth, especially in the 1990s and 2000s. Rising housing costs and the influx of wealthier residents displaced long-time working-class communities.\n",
    "2. Los Angeles County\n",
    "Gentrification Start: Early 2000s (accelerated in 2010s)\n",
    "Areas such as Downtown LA, Echo Park, Silver Lake, and Highland Park have experienced gentrification as real estate development, rising rents, and an influx of young professionals and artists transformed these historically lower-income, immigrant, and minority communities.\n",
    "3. Oakland (Alameda County)\n",
    "Gentrification Start: Mid-2000s\n",
    "Gentrification in Oakland has been noticeable in neighborhoods like West Oakland, Fruitvale, and Uptown. As housing costs in San Francisco increased, Oakland became a more attractive option for people seeking affordable living, which led to an influx of higher-income residents and subsequent displacement.\n",
    "4. Santa Clara County (San Jose)\n",
    "Gentrification Start: Early 2000s\n",
    "With the tech boom in Silicon Valley, areas around downtown San Jose and the surrounding cities have experienced significant gentrification, particularly from the 2000s onward. The rising demand for housing due to the tech industry has led to displacement in lower-income, predominantly Latino communities.\n",
    "5. San Diego County\n",
    "Gentrification Start: Mid-2000s\n",
    "Areas such as North Park, Logan Heights, and Barrio Logan have been gentrifying as rising property values, especially along the coast and near downtown, have drawn wealthier residents into traditionally working-class Latino neighborhoods. This process accelerated in the 2010s as San Diego’s real estate market grew.\n",
    "6. Sacramento County\n",
    "Gentrification Start: 2010s\n",
    "Sacramento has seen gentrification in neighborhoods such as Oak Park, Midtown, and the River District, as both the state capital’s economy and the overall housing market in the region have improved. With rising rents and the development of new housing and businesses, long-time residents have faced displacement.\n",
    "7. Riverside County\n",
    "Gentrification Start: Mid-2010s\n",
    "Although not as well-known for gentrification as coastal areas, Riverside and its neighboring cities, like Moreno Valley, have begun experiencing gentrification as people seek more affordable housing compared to LA. New developments and rising rent prices are pushing lower-income communities out of these areas.\n",
    "8. Ventura County\n",
    "Gentrification Start: Early 2000s\n",
    "Cities such as Oxnard and Ventura have experienced gentrification, particularly as housing prices in the surrounding Los Angeles area increased, prompting people to move further out. The transformation has been particularly visible in urban areas that were once more affordable to working-class Latino families."
   ]
  },
  {
   "cell_type": "markdown",
   "id": "82f744b9-44c6-48b0-bf22-0e2c0d05fdce",
   "metadata": {
    "deletable": false,
    "editable": false
   },
   "source": [
    "<!-- BEGIN QUESTION -->\n",
    "\n",
    "### <span style=\"color: blue;\">Question Five</span>\n",
    "How does the historical information provided align with the trends shown? In what ways?"
   ]
  },
  {
   "cell_type": "markdown",
   "id": "0feb3e5a",
   "metadata": {
    "tags": [
     "otter_answer_cell"
    ]
   },
   "source": [
    "_Type your answer here, replacing this text._"
   ]
  },
  {
   "cell_type": "markdown",
   "id": "04633bc2-0ed6-40eb-82a8-947c791f64ef",
   "metadata": {
    "deletable": false,
    "editable": false
   },
   "source": [
    "<!-- END QUESTION -->\n",
    "\n",
    "### Sources  \n",
    "https://en.wikipedia.org/wiki/Gentrification_of_San_Francisco\n",
    "https://www.urbandisplacement.org/maps/los-angeles-gentrification-and-displacement/\n",
    "https://www.urbandisplacement.org/wp-content/uploads/2021/08/alameda_final.pdf\n",
    "https://clsepa.org/media-great-silicon-valley-land-grab/\n",
    "https://storymaps.arcgis.com/stories/96ab5b185efb415c94024a9371295543\n",
    "https://sacramentoappraisalblog.com/2022/01/26/gentrification-neighborhood-boundaries-and-bias/\n",
    "https://journals.sagepub.com/doi/10.1177/0308518X211053642?icid=int.sj-abstract.similar-articles.4\n",
    "https://foothilldragonpress.org/286831/a-latest/gentrification-and-its-impacts-on-ventura/"
   ]
  },
  {
   "cell_type": "markdown",
   "id": "1c013627-adef-4895-9532-669e156b0032",
   "metadata": {},
   "source": [
    "Congratulations on finishing Notebook 1!\n",
    "\n",
    "The cell below generates a link to download your notebook as a zip file, which you can then submit.\n",
    "\n",
    "Before downloading, run all cells and save the notebook using command/control + s or clicking the save icon in the toolbar at the top of notebook. This is very important to ensure that all of your work shows up in the downloaded file!"
   ]
  },
  {
   "cell_type": "code",
   "execution_count": null,
   "id": "ca5880b1-81ff-4170-af9c-57d214ce83f7",
   "metadata": {},
   "outputs": [],
   "source": []
  },
  {
   "cell_type": "markdown",
   "id": "df5d2c69",
   "metadata": {
    "deletable": false,
    "editable": false
   },
   "source": [
    "## Submission\n",
    "\n",
    "Make sure you have run all cells in your notebook in order before running the cell below, so that all images/graphs appear in the output. The cell below will generate a zip file for you to submit. **Please save before exporting!**"
   ]
  },
  {
   "cell_type": "code",
   "execution_count": null,
   "id": "62432c54",
   "metadata": {
    "deletable": false,
    "editable": false
   },
   "outputs": [],
   "source": [
    "# Save your notebook first, then run this cell to export your submission.\n",
    "grader.export()"
   ]
  },
  {
   "cell_type": "markdown",
   "id": "dd474662",
   "metadata": {},
   "source": [
    " "
   ]
  }
 ],
 "metadata": {
  "kernelspec": {
   "display_name": "Python 3 (ipykernel)",
   "language": "python",
   "name": "python3"
  },
  "language_info": {
   "codemirror_mode": {
    "name": "ipython",
    "version": 3
   },
   "file_extension": ".py",
   "mimetype": "text/x-python",
   "name": "python",
   "nbconvert_exporter": "python",
   "pygments_lexer": "ipython3",
   "version": "3.11.11"
  },
  "otter": {
   "OK_FORMAT": true,
   "tests": {}
  }
 },
 "nbformat": 4,
 "nbformat_minor": 5
}
