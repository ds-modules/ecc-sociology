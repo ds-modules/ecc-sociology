{
 "cells": [
  {
   "cell_type": "markdown",
   "id": "6a0e4251-db39-4ca1-86cd-6bd4ccd96e71",
   "metadata": {},
   "source": [
    "# Incarnations and Race\n",
    " \n",
    "---\n",
    "\n",
    "\n",
    "You will be learning about events in hsitory that have impacted incarceration rates and diffrent races. \n",
    "\n",
    "\n",
    "*Estimated Time: ~30 Minutes*\n",
    "\n",
    "---\n",
    "1. Introduction to Data\n",
    "    \n",
    "    a. Overview of Data Table\n",
    "    \n",
    "    b. Explanation of Table Columns\n",
    "    \n",
    "    c. Question 1\n",
    "\n",
    "    d. First look \n",
    "\n",
    "    \n",
    "2. War on Drugs\n",
    "    \n",
    "    a. Introduction to the War on Drugs\n",
    "    \n",
    "    b. Crack vs. Cocaine\n",
    "    \n",
    "    c. Growth Rate of Drug Use\n",
    "    \n",
    "    d. Question 2\n",
    "    \n",
    "    e. 1990's Drug Drop\n",
    "    \n",
    "    f. Percent of Arrests by Population\n",
    "    \n",
    "    g. Question 3 and 4\n",
    "\n",
    "    \n",
    "3. Redlining\n",
    "    \n",
    "    a. County-Level Data\n",
    "    \n",
    "    b. Historical Context of Redlining in Counties\n",
    "\n",
    "    c. Question 5 \n",
    "    \n",
    "4. Sources \n",
    " "
   ]
  },
  {
   "cell_type": "markdown",
   "id": "adf7f701-690d-452e-9748-b107e2b776c6",
   "metadata": {},
   "source": [
    "# Helper Video\n",
    "\n",
    "##### use the following link for a follow along style video to help guide you through the notebook \n",
    "\n",
    "https://www.youtube.com/watch?v=X2NvxzQ2CvI"
   ]
  },
  {
   "cell_type": "markdown",
   "id": "61961c87-7bcf-456f-b2c8-3b4dfdd9313c",
   "metadata": {},
   "source": [
    "# Introduction "
   ]
  },
  {
   "cell_type": "markdown",
   "id": "a5d76fca-9b80-4fb1-a0df-9f69c4f0cb07",
   "metadata": {},
   "source": [
    "### Import Libraries \n",
    "To start off with we need to load in some libraries, things like Numpy that we learned. Run the cell below to do so"
   ]
  },
  {
   "cell_type": "code",
   "execution_count": 2,
   "id": "0878bd54-237e-40cc-b7cb-ff1cce809a0c",
   "metadata": {},
   "outputs": [],
   "source": [
    "from datascience import * # Loads functions from the datascience library into our current environment\n",
    "import numpy as np # Loads numerical functions\n",
    "import math, random # Loads math and random functions\n",
    "import pandas as pd \n",
    "import matplotlib.pyplot as plt\n",
    "import seaborn as sns\n",
    "from IPython.display import display, Latex, Markdown\n",
    "%matplotlib inline\n",
    "import plotly.express as px\n",
    "import ipywidgets as widgets\n",
    "from IPython.display import display\n",
    "from ipywidgets import interact\n",
    "import warnings\n",
    "warnings.filterwarnings('ignore')\n",
    "import helper as hp\n"
   ]
  },
  {
   "cell_type": "markdown",
   "id": "7d3474d2-df13-4046-9f1d-5ba892df3571",
   "metadata": {},
   "source": [
    "### Data \n",
    "The Department of Justice (DOJ) Criminal Justice Statistics Center (CJSC) collects information on arrests\n",
    "and citations (from now on referred to as “arrest(s)”) as reported by law enforcement agencies (LEA)\n",
    "throughout the state. The Monthly Arrest and Citation Register (MACR) data are reported monthly by\n",
    "law enforcement agencies (LEAs) throughout the state. Summary arrest counts are submitted to the\n",
    "Federal Bureau of Investigation’s (FBI), Uniform Crime Reporting Program (UCR). Arrest data provides\n",
    "information on felony and misdemeanor level arrests for adults and juveniles and status offenses (e.g.,\n",
    "truancy, incorrigibility, running away, and curfew violations) for juveniles. Arrest data includes\n",
    "aggregated arrest counts by reporting county, age, gender, and race/ethnic group of arrestee, while\n",
    "the Arrest Disposition data also includes the law enforcement disposition. \n",
    "\n",
    "\n",
    "Run the cell bellow to load in our data and look at the first couple of rows, and see the columns "
   ]
  },
  {
   "cell_type": "code",
   "execution_count": 3,
   "id": "1d501274-5ec3-457b-84e0-bb3401b19bf6",
   "metadata": {},
   "outputs": [
    {
     "data": {
      "text/html": [
       "<div>\n",
       "<style scoped>\n",
       "    .dataframe tbody tr th:only-of-type {\n",
       "        vertical-align: middle;\n",
       "    }\n",
       "\n",
       "    .dataframe tbody tr th {\n",
       "        vertical-align: top;\n",
       "    }\n",
       "\n",
       "    .dataframe thead th {\n",
       "        text-align: right;\n",
       "    }\n",
       "</style>\n",
       "<table border=\"1\" class=\"dataframe\">\n",
       "  <thead>\n",
       "    <tr style=\"text-align: right;\">\n",
       "      <th></th>\n",
       "      <th>YEAR</th>\n",
       "      <th>GENDER</th>\n",
       "      <th>RACE</th>\n",
       "      <th>AGE_GROUP</th>\n",
       "      <th>COUNTY</th>\n",
       "      <th>VIOLENT</th>\n",
       "      <th>PROPERTY</th>\n",
       "      <th>F_DRUGOFF</th>\n",
       "      <th>F_SEXOFF</th>\n",
       "      <th>F_ALLOTHER</th>\n",
       "      <th>F_TOTAL</th>\n",
       "      <th>M_TOTAL</th>\n",
       "      <th>S_TOTAL</th>\n",
       "      <th>Sum Total</th>\n",
       "    </tr>\n",
       "  </thead>\n",
       "  <tbody>\n",
       "    <tr>\n",
       "      <th>0</th>\n",
       "      <td>1980</td>\n",
       "      <td>Male</td>\n",
       "      <td>Black</td>\n",
       "      <td>Under 18</td>\n",
       "      <td>Alameda County</td>\n",
       "      <td>505</td>\n",
       "      <td>1351</td>\n",
       "      <td>188</td>\n",
       "      <td>26</td>\n",
       "      <td>79</td>\n",
       "      <td>2149</td>\n",
       "      <td>2286</td>\n",
       "      <td>295</td>\n",
       "      <td>4730</td>\n",
       "    </tr>\n",
       "    <tr>\n",
       "      <th>1</th>\n",
       "      <td>1980</td>\n",
       "      <td>Male</td>\n",
       "      <td>Black</td>\n",
       "      <td>18 to 19</td>\n",
       "      <td>Alameda County</td>\n",
       "      <td>205</td>\n",
       "      <td>465</td>\n",
       "      <td>183</td>\n",
       "      <td>8</td>\n",
       "      <td>48</td>\n",
       "      <td>909</td>\n",
       "      <td>1333</td>\n",
       "      <td>0</td>\n",
       "      <td>2242</td>\n",
       "    </tr>\n",
       "    <tr>\n",
       "      <th>2</th>\n",
       "      <td>1980</td>\n",
       "      <td>Male</td>\n",
       "      <td>Black</td>\n",
       "      <td>20 to 29</td>\n",
       "      <td>Alameda County</td>\n",
       "      <td>949</td>\n",
       "      <td>1593</td>\n",
       "      <td>606</td>\n",
       "      <td>27</td>\n",
       "      <td>178</td>\n",
       "      <td>3353</td>\n",
       "      <td>7974</td>\n",
       "      <td>0</td>\n",
       "      <td>11327</td>\n",
       "    </tr>\n",
       "    <tr>\n",
       "      <th>3</th>\n",
       "      <td>1980</td>\n",
       "      <td>Male</td>\n",
       "      <td>Black</td>\n",
       "      <td>30 to 39</td>\n",
       "      <td>Alameda County</td>\n",
       "      <td>450</td>\n",
       "      <td>755</td>\n",
       "      <td>241</td>\n",
       "      <td>18</td>\n",
       "      <td>110</td>\n",
       "      <td>1574</td>\n",
       "      <td>4876</td>\n",
       "      <td>0</td>\n",
       "      <td>6450</td>\n",
       "    </tr>\n",
       "    <tr>\n",
       "      <th>4</th>\n",
       "      <td>1980</td>\n",
       "      <td>Male</td>\n",
       "      <td>Black</td>\n",
       "      <td>40 to 69</td>\n",
       "      <td>Alameda County</td>\n",
       "      <td>172</td>\n",
       "      <td>218</td>\n",
       "      <td>117</td>\n",
       "      <td>11</td>\n",
       "      <td>66</td>\n",
       "      <td>584</td>\n",
       "      <td>3836</td>\n",
       "      <td>0</td>\n",
       "      <td>4420</td>\n",
       "    </tr>\n",
       "    <tr>\n",
       "      <th>...</th>\n",
       "      <td>...</td>\n",
       "      <td>...</td>\n",
       "      <td>...</td>\n",
       "      <td>...</td>\n",
       "      <td>...</td>\n",
       "      <td>...</td>\n",
       "      <td>...</td>\n",
       "      <td>...</td>\n",
       "      <td>...</td>\n",
       "      <td>...</td>\n",
       "      <td>...</td>\n",
       "      <td>...</td>\n",
       "      <td>...</td>\n",
       "      <td>...</td>\n",
       "    </tr>\n",
       "    <tr>\n",
       "      <th>107045</th>\n",
       "      <td>2023</td>\n",
       "      <td>Female</td>\n",
       "      <td>White</td>\n",
       "      <td>70 and over</td>\n",
       "      <td>Tulare County</td>\n",
       "      <td>0</td>\n",
       "      <td>0</td>\n",
       "      <td>0</td>\n",
       "      <td>0</td>\n",
       "      <td>0</td>\n",
       "      <td>0</td>\n",
       "      <td>7</td>\n",
       "      <td>0</td>\n",
       "      <td>7</td>\n",
       "    </tr>\n",
       "    <tr>\n",
       "      <th>107046</th>\n",
       "      <td>2023</td>\n",
       "      <td>Female</td>\n",
       "      <td>White</td>\n",
       "      <td>70 and over</td>\n",
       "      <td>Tuolumne County</td>\n",
       "      <td>0</td>\n",
       "      <td>0</td>\n",
       "      <td>0</td>\n",
       "      <td>0</td>\n",
       "      <td>0</td>\n",
       "      <td>0</td>\n",
       "      <td>1</td>\n",
       "      <td>0</td>\n",
       "      <td>1</td>\n",
       "    </tr>\n",
       "    <tr>\n",
       "      <th>107047</th>\n",
       "      <td>2023</td>\n",
       "      <td>Female</td>\n",
       "      <td>White</td>\n",
       "      <td>70 and over</td>\n",
       "      <td>Ventura County</td>\n",
       "      <td>1</td>\n",
       "      <td>0</td>\n",
       "      <td>0</td>\n",
       "      <td>0</td>\n",
       "      <td>1</td>\n",
       "      <td>2</td>\n",
       "      <td>26</td>\n",
       "      <td>0</td>\n",
       "      <td>28</td>\n",
       "    </tr>\n",
       "    <tr>\n",
       "      <th>107048</th>\n",
       "      <td>2023</td>\n",
       "      <td>Female</td>\n",
       "      <td>White</td>\n",
       "      <td>70 and over</td>\n",
       "      <td>Yolo County</td>\n",
       "      <td>0</td>\n",
       "      <td>0</td>\n",
       "      <td>0</td>\n",
       "      <td>0</td>\n",
       "      <td>1</td>\n",
       "      <td>1</td>\n",
       "      <td>4</td>\n",
       "      <td>0</td>\n",
       "      <td>5</td>\n",
       "    </tr>\n",
       "    <tr>\n",
       "      <th>107049</th>\n",
       "      <td>2023</td>\n",
       "      <td>Female</td>\n",
       "      <td>White</td>\n",
       "      <td>70 and over</td>\n",
       "      <td>Yuba County</td>\n",
       "      <td>0</td>\n",
       "      <td>1</td>\n",
       "      <td>0</td>\n",
       "      <td>0</td>\n",
       "      <td>1</td>\n",
       "      <td>2</td>\n",
       "      <td>2</td>\n",
       "      <td>0</td>\n",
       "      <td>4</td>\n",
       "    </tr>\n",
       "  </tbody>\n",
       "</table>\n",
       "<p>107050 rows × 14 columns</p>\n",
       "</div>"
      ],
      "text/plain": [
       "        YEAR  GENDER   RACE    AGE_GROUP           COUNTY  VIOLENT  PROPERTY  \\\n",
       "0       1980    Male  Black     Under 18   Alameda County      505      1351   \n",
       "1       1980    Male  Black     18 to 19   Alameda County      205       465   \n",
       "2       1980    Male  Black     20 to 29   Alameda County      949      1593   \n",
       "3       1980    Male  Black     30 to 39   Alameda County      450       755   \n",
       "4       1980    Male  Black     40 to 69   Alameda County      172       218   \n",
       "...      ...     ...    ...          ...              ...      ...       ...   \n",
       "107045  2023  Female  White  70 and over    Tulare County        0         0   \n",
       "107046  2023  Female  White  70 and over  Tuolumne County        0         0   \n",
       "107047  2023  Female  White  70 and over   Ventura County        1         0   \n",
       "107048  2023  Female  White  70 and over      Yolo County        0         0   \n",
       "107049  2023  Female  White  70 and over      Yuba County        0         1   \n",
       "\n",
       "        F_DRUGOFF  F_SEXOFF  F_ALLOTHER  F_TOTAL  M_TOTAL  S_TOTAL  Sum Total  \n",
       "0             188        26          79     2149     2286      295       4730  \n",
       "1             183         8          48      909     1333        0       2242  \n",
       "2             606        27         178     3353     7974        0      11327  \n",
       "3             241        18         110     1574     4876        0       6450  \n",
       "4             117        11          66      584     3836        0       4420  \n",
       "...           ...       ...         ...      ...      ...      ...        ...  \n",
       "107045          0         0           0        0        7        0          7  \n",
       "107046          0         0           0        0        1        0          1  \n",
       "107047          0         0           1        2       26        0         28  \n",
       "107048          0         0           1        1        4        0          5  \n",
       "107049          0         0           1        2        2        0          4  \n",
       "\n",
       "[107050 rows x 14 columns]"
      ]
     },
     "execution_count": 3,
     "metadata": {},
     "output_type": "execute_result"
    }
   ],
   "source": [
    "arrest = hp.arrest\n",
    "arrest"
   ]
  },
  {
   "cell_type": "markdown",
   "id": "3f0c8e5d-258c-462e-8c49-7e4fda61cd22",
   "metadata": {},
   "source": [
    "Run the next cell below to see our columns "
   ]
  },
  {
   "cell_type": "code",
   "execution_count": 4,
   "id": "9b5badca-0096-45df-9ce8-7e5288e2c24d",
   "metadata": {},
   "outputs": [
    {
     "name": "stdout",
     "output_type": "stream",
     "text": [
      "Index(['YEAR', 'GENDER', 'RACE', 'AGE_GROUP', 'COUNTY', 'VIOLENT', 'PROPERTY',\n",
      "       'F_DRUGOFF', 'F_SEXOFF', 'F_ALLOTHER', 'F_TOTAL', 'M_TOTAL', 'S_TOTAL',\n",
      "       'Sum Total'],\n",
      "      dtype='object')\n"
     ]
    }
   ],
   "source": [
    "print(arrest.columns)"
   ]
  },
  {
   "cell_type": "markdown",
   "id": "1f779965-9a34-4c5a-82b2-1db36db5f082",
   "metadata": {},
   "source": [
    "### Review of Column Labels and Their Descriptions\n",
    "\n",
    "Year – The year, ranging from 1980 to 2023.\n",
    "\n",
    "Gender – Data collected includes only two categories of gender: male and female.\n",
    "\n",
    "Race – Categorized as White, Black, Hispanic, and Other.\n",
    "\n",
    "Age Group – Grouped as: Under 18; \n",
    "                        18-19;\n",
    "                        20-29;\n",
    "                        30-39;\n",
    "                        40-69;\n",
    "                        70+\n",
    "\n",
    "County – The county in California from which the data was collected.\n",
    "\n",
    "Violent – The number of crimes classified as violent felonies.\n",
    "\n",
    "Property – The number of crimes classified as property felonies.\n",
    "\n",
    "F_Drugoff – The number of crimes classified as drug felonies.\n",
    "\n",
    "F_Sexoff – The number of crimes classified as sex felonies.\n",
    "\n",
    "F_ALLOTHER – Other felonies that were not properly classified.\n",
    "\n",
    "F_Totalsum – The total sum of all felony arrests.\n",
    "\n",
    "M_Totalsum – The total sum of all misdemeanor arrests.\n",
    "\n",
    "S_Total – The total sum of status offenses.\n",
    "\n",
    "Sum Total – The total number of arrests.\n"
   ]
  },
  {
   "cell_type": "markdown",
   "id": "9ab81660-3739-4d5c-abde-e9fb4e130a63",
   "metadata": {},
   "source": [
    "### <span style=\"color: blue;\">Question One</span>\n",
    "In 2-3 sentences, summarize what this data represents using the information above, the column labels, and the snippet of the data table. Explain what each row represents and highlight any personal interests you have in the data. Answer where your professor has told you to. "
   ]
  },
  {
   "cell_type": "markdown",
   "id": "85f2ea34-16c9-4784-96f7-c79abf2ed48c",
   "metadata": {},
   "source": [
    "## First look at data \n",
    "In the cell below, you'll find a widget that displays the number of drug arrests by year. This widget allows you to interact with the data and select the range of years you'd like to explore. In the following cell, adjust the slider to examine trends over the years of all Fellony Arrests "
   ]
  },
  {
   "cell_type": "code",
   "execution_count": 5,
   "id": "79d6295a-0314-4d13-bb37-cd1f33655c5a",
   "metadata": {},
   "outputs": [
    {
     "data": {
      "application/vnd.jupyter.widget-view+json": {
       "model_id": "89e5eadd4c434646bce696432e6f9ef1",
       "version_major": 2,
       "version_minor": 0
      },
      "text/plain": [
       "interactive(children=(IntRangeSlider(value=(1990, 2012), description='Year Range:', max=2023, min=1980), Outpu…"
      ]
     },
     "metadata": {},
     "output_type": "display_data"
    }
   ],
   "source": [
    "display(widgets.interactive(lambda years : hp.plot_arrest(arrest, years), years= hp.year_slider))"
   ]
  },
  {
   "cell_type": "markdown",
   "id": "1b064524-e523-4ed6-b94d-685ee1a66c9a",
   "metadata": {},
   "source": [
    "# War On Drugs \n",
    "\n",
    "## Intro\n",
    "The War on Drugs disproportionately impacted people of color, particularly Black Americans, despite their relatively small share of the overall U.S. population. While drug use rates are similar across racial groups, harsh policies—like mandatory minimum sentences and crack cocaine laws—targeted urban communities where Black and Latino populations were concentrated. As a result, Black individuals faced drug-related incarceration at significantly higher rates than white individuals. Despite making up only about 13% of the U.S. population, Black people have historically accounted for a disproportionate percentage of drug arrests and incarcerations. This racial disparity wasn’t just a coincidence—it was fueled by systemic biases in policing, sentencing, and media portrayals that criminalized Black communities at a much higher rate than their white counterparts.\n",
    "    \n",
    "This next widget allows you to explore drug arrest trends adjust the widget to see how the War on Drugs influenced overall drug arrests, based on the timing of legislation.\n",
    "\n"
   ]
  },
  {
   "cell_type": "code",
   "execution_count": 6,
   "id": "5f4118f0-0446-4c5c-ba24-e6aa4b284515",
   "metadata": {},
   "outputs": [
    {
     "data": {
      "application/vnd.jupyter.widget-view+json": {
       "model_id": "033bffa9a8b64a59a3308932f5b9a8a0",
       "version_major": 2,
       "version_minor": 0
      },
      "text/plain": [
       "interactive(children=(IntRangeSlider(value=(1990, 2012), description='Year Range:', max=2023, min=1980), Outpu…"
      ]
     },
     "metadata": {},
     "output_type": "display_data"
    }
   ],
   "source": [
    "display(widgets.interactive(lambda years : hp.plot_drug_arrest(arrest, years), years= hp.year_slider))"
   ]
  },
  {
   "cell_type": "markdown",
   "id": "d8eac1cb-fe35-45ad-8346-96c7d994408b",
   "metadata": {},
   "source": [
    "## Race Impacts\n",
    "\n",
    "### Crack vs Powder Cocaine\n",
    "The War on Drugs, launched in the 1970s and intensified in the 1980s, led to a surge in drug arrests by 1990 due to harsh federal policies like the Anti-Drug Abuse Acts of 1986 and 1988, which imposed mandatory minimum sentences and created a 100:1 sentencing disparity between crack and powder cocaine, disproportionately affecting Black communities. The Bush administration expanded \"tough on crime\" policing, including Operation Pipeline, which increased drug-related stops and arrests. Law enforcement shifted focus to street-level drug offenses, targeting users and low-level dealers rather than major traffickers. The rise of three-strikes laws and harsher sentencing further drove up incarceration rates. Meanwhile, media-fueled fears of a “crack epidemic” reinforced racialized policing and political rhetoric, justifying aggressive drug enforcement. As a result, 1990 saw a spike in drug possession arrests, particularly among minorities, contributing to the long-term trend of mass incarceration in the U.S.\n",
    "\n",
    "\n",
    "In the next cell, use the dropdown to select the race you'd like to display, and try to observe the differences. You can also adjust the year range— we recommend setting it from 1980 to 1990.\n"
   ]
  },
  {
   "cell_type": "code",
   "execution_count": 7,
   "id": "e347f157-b698-4cc7-be46-24cefeb983d7",
   "metadata": {},
   "outputs": [
    {
     "data": {
      "application/vnd.jupyter.widget-view+json": {
       "model_id": "6f8b8893b3334cf686fd8f4a5607547f",
       "version_major": 2,
       "version_minor": 0
      },
      "text/plain": [
       "interactive(children=(IntRangeSlider(value=(1990, 2012), description='Year Range:', max=2023, min=1980), Dropd…"
      ]
     },
     "metadata": {},
     "output_type": "display_data"
    }
   ],
   "source": [
    "display(widgets.interactive(lambda years, race : hp.drug_plot_race(arrest, years, race), years= hp.year_slider, race= hp.race_dropdown))"
   ]
  },
  {
   "cell_type": "markdown",
   "id": "cee7d9cb-8cff-4665-8d6e-7e02cf8d2e11",
   "metadata": {},
   "source": [
    "It's challenging to compare different races on separate graphs, but as data scientists, this is something we need to do. To make it easier, we create overlapping graphs. Using the widget below, select the races you want to graph together (make sure to view all of them together in the end). You can also adjust the year range— we recommend setting it from 1980 to 1990. \n",
    "\n",
    "Warning: The graph will only plot/ update if you have selcted a race/races and shifited the year slider. So everytime you make a new selection(s) move the year widget to display the corresponding plot. "
   ]
  },
  {
   "cell_type": "code",
   "execution_count": 8,
   "id": "24d5a151-ef9a-4eff-bac6-6f2616c35577",
   "metadata": {},
   "outputs": [
    {
     "data": {
      "application/vnd.jupyter.widget-view+json": {
       "model_id": "1f67834f057b4b1197bcf72fa27b69bf",
       "version_major": 2,
       "version_minor": 0
      },
      "text/plain": [
       "VBox(children=(Checkbox(value=False, description='White'), Checkbox(value=False, description='Black'), Checkbo…"
      ]
     },
     "metadata": {},
     "output_type": "display_data"
    },
    {
     "data": {
      "application/vnd.jupyter.widget-view+json": {
       "model_id": "d61d6bcb022442caaa101b48c282b0f9",
       "version_major": 2,
       "version_minor": 0
      },
      "text/plain": [
       "interactive(children=(IntRangeSlider(value=(1980, 2022), description='Year Range:', max=2023, min=1980), Outpu…"
      ]
     },
     "metadata": {},
     "output_type": "display_data"
    }
   ],
   "source": [
    "display(widgets.VBox(hp.checkboxes), widgets.interactive(lambda years: hp.plot_races(arrest, years), years= hp.year_slider))"
   ]
  },
  {
   "cell_type": "markdown",
   "id": "3b237fc9-77ff-47ca-9685-fc0c6fe7551b",
   "metadata": {},
   "source": [
    "### Rate of Growth \n",
    "\n",
    "Getting numbers. It's nice to see things visualy but let's see statisicult how much arrest went up for each race from 1980's to 1989. Use the drop down to display the various percent growth rates."
   ]
  },
  {
   "cell_type": "code",
   "execution_count": 9,
   "id": "8f88bba9-87a2-4dc8-87b5-88d7ad6a705f",
   "metadata": {},
   "outputs": [
    {
     "data": {
      "application/vnd.jupyter.widget-view+json": {
       "model_id": "8860a9b387f347a2b16c9252df644d04",
       "version_major": 2,
       "version_minor": 0
      },
      "text/plain": [
       "interactive(children=(Dropdown(description='race', options=('White', 'Black', 'Hispanic', 'Other'), value='Whi…"
      ]
     },
     "metadata": {},
     "output_type": "display_data"
    }
   ],
   "source": [
    "display(widgets.interactive(lambda race : hp.drug_percentage_increase(arrest, race), race= hp.race_dropdown))"
   ]
  },
  {
   "cell_type": "markdown",
   "id": "fd0d2765-3827-4b06-bc34-e493e710a5b7",
   "metadata": {},
   "source": [
    "### <span style=\"color: blue;\">Question Two</span>\n",
    "How did the War on Drugs impact incarceration numbers? How did it affect different races? Black people made up around 7%, white poeple made up 60%, Hispanic people made up 25% of California's population in the 1980s and 1990s—how does this influence your understanding of the data? Answer in the cell below \n",
    "\n",
    "Stats of Race Percent Population in 1980's Again: \n",
    "\n",
    "    White (Non-Hispanic): Approximately 60%\n",
    "\n",
    "    Hispanic or Latino: Around 25%\n",
    "\n",
    "    Black or African American: About 7%\n",
    "\n",
    "    Asian: Roughly 4-5%\n",
    "\n",
    "Answer where your professor has told you to."
   ]
  },
  {
   "cell_type": "markdown",
   "id": "50cd9fd6-ee1f-49de-b6c2-3ac8ea7f6d8b",
   "metadata": {},
   "source": [
    "## 90's Drug Arrest Drop \n",
    "In the early 1990s, law enforcement in California and across the U.S. shifted its focus from low-level drug offenses to violent crime and gang-related activity. This change was largely driven by growing concerns over public safety and rising crime rates, leading to policies that prioritized harsher sentencing for repeat offenders. The 1994 Crime Bill played a significant role in this shift by increasing funding for law enforcement and expanding the prison system. Additionally, California’s Three Strikes Law, enacted in 1994, imposed life sentences on individuals convicted of three serious crimes, further redirecting law enforcement efforts toward violent and high-profile offenses. As a result, while drug-related arrests declined, overall incarceration rates remained high due to the crackdown on repeat offenders.\n",
    "\n",
    "Use the widget below to see how total felony arrests have changed over the years compared to drug-related felony arrests during this period (1994). To see if we see a the trend of drug-related arrests declined while overall incarceration rates remained high due to the crackdown on repeat offenders."
   ]
  },
  {
   "cell_type": "code",
   "execution_count": 8,
   "id": "e56d8782-cfd5-46e8-be87-9cc2b0f60e93",
   "metadata": {},
   "outputs": [
    {
     "data": {
      "application/vnd.jupyter.widget-view+json": {
       "model_id": "483f2eb01aa745deaa521838bbfd6358",
       "version_major": 2,
       "version_minor": 0
      },
      "text/plain": [
       "interactive(children=(Dropdown(description='arrest_type', options=('F_DRUGOFF', 'F_TOTAL'), value='F_DRUGOFF')…"
      ]
     },
     "metadata": {},
     "output_type": "display_data"
    }
   ],
   "source": [
    "display(widgets.interactive(lambda arrest_type, years : hp.plot_type_arrest(arrest,arrest_type, years), arrest_type= hp.arrest_dropdown, years=hp.year_slider))"
   ]
  },
  {
   "cell_type": "markdown",
   "id": "3bcd3d44-fca9-4a90-90dd-864233ea1cff",
   "metadata": {},
   "source": [
    "Now to see the relationship between drug arrest vs violence arrest observe the violence arrest graph below"
   ]
  },
  {
   "cell_type": "code",
   "execution_count": 9,
   "id": "b5f4bbed-57e7-485b-91d4-5ae932047fb1",
   "metadata": {},
   "outputs": [
    {
     "data": {
      "application/vnd.jupyter.widget-view+json": {
       "model_id": "e692365c5f0f4a4ca7317c2bed60ebee",
       "version_major": 2,
       "version_minor": 0
      },
      "text/plain": [
       "interactive(children=(IntRangeSlider(value=(1990, 2012), description='Year Range:', max=2023, min=1980), Outpu…"
      ]
     },
     "metadata": {},
     "output_type": "display_data"
    }
   ],
   "source": [
    "display(widgets.interactive(lambda years : hp.plot_violence(arrest, years, overlay= True), years=hp.year_slider))"
   ]
  },
  {
   "cell_type": "markdown",
   "id": "330041ff-0b03-44a5-9908-7e381edd6c36",
   "metadata": {},
   "source": [
    "## Arrest Rates Compared to Population Distribution\n",
    "As we said before we don't get a full picture before because the poulation distribustion for each race is not taken into account. In this next section we will be working with the follwing data set that displays the arrest rates for different racial groups compare to their share of the total population in that year. Play the next cell to display the data. "
   ]
  },
  {
   "cell_type": "code",
   "execution_count": 10,
   "id": "5be4a4b9-f0a0-4c1b-893a-773e49654090",
   "metadata": {},
   "outputs": [
    {
     "data": {
      "text/html": [
       "<div>\n",
       "<style scoped>\n",
       "    .dataframe tbody tr th:only-of-type {\n",
       "        vertical-align: middle;\n",
       "    }\n",
       "\n",
       "    .dataframe tbody tr th {\n",
       "        vertical-align: top;\n",
       "    }\n",
       "\n",
       "    .dataframe thead th {\n",
       "        text-align: right;\n",
       "    }\n",
       "</style>\n",
       "<table border=\"1\" class=\"dataframe\">\n",
       "  <thead>\n",
       "    <tr style=\"text-align: right;\">\n",
       "      <th></th>\n",
       "      <th>Race</th>\n",
       "      <th>Year</th>\n",
       "      <th>Sum Total</th>\n",
       "      <th>race_pop</th>\n",
       "      <th>Percent Arrest per Race</th>\n",
       "    </tr>\n",
       "  </thead>\n",
       "  <tbody>\n",
       "    <tr>\n",
       "      <th>0</th>\n",
       "      <td>Black</td>\n",
       "      <td>1990</td>\n",
       "      <td>372002</td>\n",
       "      <td>3440880.0</td>\n",
       "      <td>10.811246</td>\n",
       "    </tr>\n",
       "    <tr>\n",
       "      <th>1</th>\n",
       "      <td>Black</td>\n",
       "      <td>1991</td>\n",
       "      <td>333436</td>\n",
       "      <td>3535396.0</td>\n",
       "      <td>9.431362</td>\n",
       "    </tr>\n",
       "    <tr>\n",
       "      <th>2</th>\n",
       "      <td>Black</td>\n",
       "      <td>1992</td>\n",
       "      <td>325277</td>\n",
       "      <td>3631011.0</td>\n",
       "      <td>8.958304</td>\n",
       "    </tr>\n",
       "    <tr>\n",
       "      <th>3</th>\n",
       "      <td>Black</td>\n",
       "      <td>1993</td>\n",
       "      <td>311277</td>\n",
       "      <td>3727723.0</td>\n",
       "      <td>8.350325</td>\n",
       "    </tr>\n",
       "    <tr>\n",
       "      <th>4</th>\n",
       "      <td>Black</td>\n",
       "      <td>1994</td>\n",
       "      <td>308456</td>\n",
       "      <td>3794178.0</td>\n",
       "      <td>8.129719</td>\n",
       "    </tr>\n",
       "    <tr>\n",
       "      <th>...</th>\n",
       "      <td>...</td>\n",
       "      <td>...</td>\n",
       "      <td>...</td>\n",
       "      <td>...</td>\n",
       "      <td>...</td>\n",
       "    </tr>\n",
       "    <tr>\n",
       "      <th>131</th>\n",
       "      <td>White</td>\n",
       "      <td>2019</td>\n",
       "      <td>373536</td>\n",
       "      <td>27097340.0</td>\n",
       "      <td>1.378497</td>\n",
       "    </tr>\n",
       "    <tr>\n",
       "      <th>132</th>\n",
       "      <td>White</td>\n",
       "      <td>2020</td>\n",
       "      <td>290966</td>\n",
       "      <td>27199234.0</td>\n",
       "      <td>1.069758</td>\n",
       "    </tr>\n",
       "    <tr>\n",
       "      <th>133</th>\n",
       "      <td>White</td>\n",
       "      <td>2021</td>\n",
       "      <td>264139</td>\n",
       "      <td>27388007.0</td>\n",
       "      <td>0.964433</td>\n",
       "    </tr>\n",
       "    <tr>\n",
       "      <th>134</th>\n",
       "      <td>White</td>\n",
       "      <td>2022</td>\n",
       "      <td>256491</td>\n",
       "      <td>27526749.0</td>\n",
       "      <td>0.931788</td>\n",
       "    </tr>\n",
       "    <tr>\n",
       "      <th>135</th>\n",
       "      <td>White</td>\n",
       "      <td>2023</td>\n",
       "      <td>250900</td>\n",
       "      <td>27590173.0</td>\n",
       "      <td>0.909382</td>\n",
       "    </tr>\n",
       "  </tbody>\n",
       "</table>\n",
       "<p>136 rows × 5 columns</p>\n",
       "</div>"
      ],
      "text/plain": [
       "      Race  Year  Sum Total    race_pop  Percent Arrest per Race\n",
       "0    Black  1990     372002   3440880.0                10.811246\n",
       "1    Black  1991     333436   3535396.0                 9.431362\n",
       "2    Black  1992     325277   3631011.0                 8.958304\n",
       "3    Black  1993     311277   3727723.0                 8.350325\n",
       "4    Black  1994     308456   3794178.0                 8.129719\n",
       "..     ...   ...        ...         ...                      ...\n",
       "131  White  2019     373536  27097340.0                 1.378497\n",
       "132  White  2020     290966  27199234.0                 1.069758\n",
       "133  White  2021     264139  27388007.0                 0.964433\n",
       "134  White  2022     256491  27526749.0                 0.931788\n",
       "135  White  2023     250900  27590173.0                 0.909382\n",
       "\n",
       "[136 rows x 5 columns]"
      ]
     },
     "execution_count": 10,
     "metadata": {},
     "output_type": "execute_result"
    }
   ],
   "source": [
    "extended_arrest= hp.type_arrest(\"Sum Total\")\n",
    "extended_arrest"
   ]
  },
  {
   "cell_type": "markdown",
   "id": "342eb706-2f74-40c9-9b59-1fbc6eaedb79",
   "metadata": {},
   "source": [
    "Play the next cell and use the dropdown to view the Percent Arrests for different year"
   ]
  },
  {
   "cell_type": "code",
   "execution_count": 11,
   "id": "d2cf6792-33bf-429d-a2eb-962e2df7b2c9",
   "metadata": {},
   "outputs": [
    {
     "data": {
      "application/vnd.jupyter.widget-view+json": {
       "model_id": "8395f7c9dfa449a394cc3cc97c799c56",
       "version_major": 2,
       "version_minor": 0
      },
      "text/plain": [
       "interactive(children=(Dropdown(description='year', options=(1990, 1991, 1992, 1993, 1994, 1995, 1996, 1997, 19…"
      ]
     },
     "metadata": {},
     "output_type": "display_data"
    }
   ],
   "source": [
    "display(widgets.interactive(lambda year : hp.bar_arrest(extended_arrest, year),  year=hp.year_dropdown))"
   ]
  },
  {
   "cell_type": "markdown",
   "id": "613d637c-3301-46c6-8032-0684a57b633c",
   "metadata": {},
   "source": [
    "It's hard to see the changes over the years with the distribution above, so play the next cell to view data across multiple years for each race. Use the slider to adjust the year range. To zoom in on the bars for each race, hover over the graph, then click and drag. To zoom out, just double-click."
   ]
  },
  {
   "cell_type": "code",
   "execution_count": 12,
   "id": "c1063514-256b-44a2-9729-3598311320c8",
   "metadata": {},
   "outputs": [
    {
     "data": {
      "application/vnd.jupyter.widget-view+json": {
       "model_id": "903c57a5d5f44b25a4afa5fe278ac557",
       "version_major": 2,
       "version_minor": 0
      },
      "text/plain": [
       "interactive(children=(IntRangeSlider(value=(2000, 2010), continuous_update=False, description='Years:', max=20…"
      ]
     },
     "metadata": {},
     "output_type": "display_data"
    }
   ],
   "source": [
    "display(widgets.interactive(lambda year : hp.bar_years(extended_arrest, year),  year=hp.year_selector))"
   ]
  },
  {
   "cell_type": "markdown",
   "id": "0bf48667-1841-41e0-9cc7-7d25cdb72029",
   "metadata": {},
   "source": [
    "### <span style=\"color: blue;\">Question Three</span>\n",
    "Interact with the data by hovering over the bars to see specific information for each year and race. Identify the year when the Percent Arrests was highest and lowest for each race. If comparing the bars is difficult, use the zoom-in function described above to make it easier.\n",
    "how does arrest rate by race, copare to that racial percentage/ over or under rep. Answer where your professor has told you to."
   ]
  },
  {
   "cell_type": "markdown",
   "id": "3874a5f5-f965-4bcb-bde3-2de1873bc689",
   "metadata": {},
   "source": [
    "Lastly, we can compare the distributions of Percent Arrests by Race using a box plot. Play the next cell to display it."
   ]
  },
  {
   "cell_type": "code",
   "execution_count": 14,
   "id": "3789907a-f9c8-4ccb-aac2-b821f121974e",
   "metadata": {},
   "outputs": [
    {
     "data": {
      "image/png": "[encoded data removed]",
      "text/plain": [
       "<Figure size 640x480 with 1 Axes>"
      ]
     },
     "metadata": {},
     "output_type": "display_data"
    }
   ],
   "source": [
    "hp.box_arrest(extended_arrest)"
   ]
  },
  {
   "cell_type": "markdown",
   "id": "7b2da944-ac5d-46e1-8a74-d0fbfbe96e41",
   "metadata": {},
   "source": [
    "### <span style=\"color: blue;\">Question Four</span>\n",
    "Using data science, there are many ways to analyze data and identify patterns, as we did in this section. With the four methods of displaying data above (table, single bar chart, grouped bar chart, and box plot), consider the following questions, and answer below: \n",
    "\n",
    "1. Which display of data was your favorite and why? In what ways was it the most helpful, and where did it fall short?\n",
    "2. How did looking at the percent per race compare to just viewing the raw numbers?\n",
    "3. Which visualization made it easiest to compare trends over multiple years? Why?\n",
    "4. How did the box plot help in understanding the spread and variation in the data compared to the bar charts?\n",
    "5. If you were to analyze a different dataset, which of these methods would you choose, and would you use any additional visualizations?\n",
    "\n",
    "Answer where your professor has told you to."
   ]
  },
  {
   "cell_type": "markdown",
   "id": "8e10a774-a6fd-463a-b14e-c973a3890d55",
   "metadata": {},
   "source": [
    "# Redlining and Gentrification\n",
    "Redlining and gentrification are interconnected processes that both shape urban landscapes and impact marginalized communities. Redlining, a discriminatory practice where certain neighborhoods, often predominantly inhabited by people of color, were marked as high-risk areas for investment, created long-lasting disparities in housing and economic opportunities. These areas were historically denied access to loans, infrastructure, and public services, leading to cycles of poverty and disinvestment. As gentrification occurs, these once-redlined neighborhoods are targeted for redevelopment, bringing in wealthier, often predominantly white, residents. While gentrification can lead to economic revitalization, it also displaces the lower-income communities that have historically lived in these areas, exacerbating social inequalities.\n",
    "\n",
    "Gentrification is particularly harmful to marginalized communities because it leads to the displacement of residents, loss of affordable housing, and the erasure of cultural identity. As property values rise and new developments cater to wealthier residents, longtime residents—often people of color—are pushed out of their neighborhoods. This displacement disrupts communities, breaking apart long-established social networks and support systems. The increase in living costs makes it harder for low-income individuals and families to stay in the area, leading to increased economic stress. Gentrification also brings increased surveillance and policing, often targeting the very communities that are being displaced. This can deepen feelings of marginalization and result in higher rates of criminalization for those left behind\n",
    "\n",
    "Use the widget below to display felony arrests across different counties. Explore the data and make some initial observations."
   ]
  },
  {
   "cell_type": "code",
   "execution_count": 1,
   "id": "f50776db-9197-4c55-b302-db319a16d0fa",
   "metadata": {},
   "outputs": [
    {
     "ename": "NameError",
     "evalue": "name 'widgets' is not defined",
     "output_type": "error",
     "traceback": [
      "\u001b[0;31m---------------------------------------------------------------------------\u001b[0m",
      "\u001b[0;31mNameError\u001b[0m                                 Traceback (most recent call last)",
      "Cell \u001b[0;32mIn[1], line 1\u001b[0m\n\u001b[0;32m----> 1\u001b[0m display(\u001b[43mwidgets\u001b[49m\u001b[38;5;241m.\u001b[39minteractive(\u001b[38;5;28;01mlambda\u001b[39;00m x : hp\u001b[38;5;241m.\u001b[39mmap_f_arrest(arrest, x), x\u001b[38;5;241m=\u001b[39mhp\u001b[38;5;241m.\u001b[39mcounty_dropdown))\n",
      "\u001b[0;31mNameError\u001b[0m: name 'widgets' is not defined"
     ]
    }
   ],
   "source": [
    "display(widgets.interactive(lambda x : hp.map_f_arrest(arrest, x), x=hp.county_dropdown))"
   ]
  },
  {
   "cell_type": "markdown",
   "id": "b643a846-adc7-4a61-9b40-fe4de37f4d1e",
   "metadata": {},
   "source": [
    "Data science is a powerful tool, but it doesn't always have access to the full picture. In the case of gentrification and its effects on crime, for example, we might rely on county-level data to track trends, but these broader datasets can miss the nuances that are essential for a complete understanding. County-level data may show a decrease in crime rates, but that doesn’t account for the displacement of marginalized communities, the rise in surveillance, or the social upheaval occurring at the neighborhood level. To draw more accurate and truthful conclusions, data scientists need to recognize the gaps in their data and acknowledge the context these numbers exist within. Without considering the underlying social dynamics, such as increased policing, changes in community structure, and economic pressures, the analysis can paint an incomplete picture. Understanding these limitations and the broader context is essential for drawing more accurate insights and making informed, responsible decisions.\n",
    "\n",
    "To-do: Choose a couple of the counties below and read about how gentrification has impacted them. Then, use the widget above to explore the data and make observations. How does the historical information provided align with the trends shown? In what ways?\n",
    "\n",
    "### County information\n",
    "1. San Francisco County\n",
    "Gentrification Start: Early 1990s\n",
    "San Francisco’s neighborhoods like the Mission District, Tenderloin, and Bayview-Hunters Point have seen significant gentrification, driven by tech industry growth, especially in the 1990s and 2000s. Rising housing costs and the influx of wealthier residents displaced long-time working-class communities.\n",
    "2. Los Angeles County\n",
    "Gentrification Start: Early 2000s (accelerated in 2010s)\n",
    "Areas such as Downtown LA, Echo Park, Silver Lake, and Highland Park have experienced gentrification as real estate development, rising rents, and an influx of young professionals and artists transformed these historically lower-income, immigrant, and minority communities.\n",
    "3. Oakland (Alameda County)\n",
    "Gentrification Start: Mid-2000s\n",
    "Gentrification in Oakland has been noticeable in neighborhoods like West Oakland, Fruitvale, and Uptown. As housing costs in San Francisco increased, Oakland became a more attractive option for people seeking affordable living, which led to an influx of higher-income residents and subsequent displacement.\n",
    "4. Santa Clara County (San Jose)\n",
    "Gentrification Start: Early 2000s\n",
    "With the tech boom in Silicon Valley, areas around downtown San Jose and the surrounding cities have experienced significant gentrification, particularly from the 2000s onward. The rising demand for housing due to the tech industry has led to displacement in lower-income, predominantly Latino communities.\n",
    "5. San Diego County\n",
    "Gentrification Start: Mid-2000s\n",
    "Areas such as North Park, Logan Heights, and Barrio Logan have been gentrifying as rising property values, especially along the coast and near downtown, have drawn wealthier residents into traditionally working-class Latino neighborhoods. This process accelerated in the 2010s as San Diego’s real estate market grew.\n",
    "6. Sacramento County\n",
    "Gentrification Start: 2010s\n",
    "Sacramento has seen gentrification in neighborhoods such as Oak Park, Midtown, and the River District, as both the state capital’s economy and the overall housing market in the region have improved. With rising rents and the development of new housing and businesses, long-time residents have faced displacement.\n",
    "7. Riverside County\n",
    "Gentrification Start: Mid-2010s\n",
    "Although not as well-known for gentrification as coastal areas, Riverside and its neighboring cities, like Moreno Valley, have begun experiencing gentrification as people seek more affordable housing compared to LA. New developments and rising rent prices are pushing lower-income communities out of these areas.\n",
    "8. Ventura County\n",
    "Gentrification Start: Early 2000s\n",
    "Cities such as Oxnard and Ventura have experienced gentrification, particularly as housing prices in the surrounding Los Angeles area increased, prompting people to move further out. The transformation has been particularly visible in urban areas that were once more affordable to working-class Latino families."
   ]
  },
  {
   "cell_type": "markdown",
   "id": "82f744b9-44c6-48b0-bf22-0e2c0d05fdce",
   "metadata": {},
   "source": [
    "### <span style=\"color: blue;\">Question Five</span>\n",
    "How does the historical information provided align with the trends shown? In what ways? Answer where your professor has told you to."
   ]
  },
  {
   "cell_type": "markdown",
   "id": "04633bc2-0ed6-40eb-82a8-947c791f64ef",
   "metadata": {},
   "source": [
    "### Sources  \n",
    "https://en.wikipedia.org/wiki/Gentrification_of_San_Francisco\n",
    "https://www.urbandisplacement.org/maps/los-angeles-gentrification-and-displacement/\n",
    "https://www.urbandisplacement.org/wp-content/uploads/2021/08/alameda_final.pdf\n",
    "https://clsepa.org/media-great-silicon-valley-land-grab/\n",
    "https://storymaps.arcgis.com/stories/96ab5b185efb415c94024a9371295543\n",
    "https://sacramentoappraisalblog.com/2022/01/26/gentrification-neighborhood-boundaries-and-bias/\n",
    "https://journals.sagepub.com/doi/10.1177/0308518X211053642?icid=int.sj-abstract.similar-articles.4\n",
    "https://foothilldragonpress.org/286831/a-latest/gentrification-and-its-impacts-on-ventura/\n",
    "https://info.primarycare.hms.harvard.edu/perspectives/articles/redlining-gentrification-health-outcomes\n",
    "https://www.brennancenter.org/our-work/analysis-opinion/1994-crime-bill-and-beyond-how-federal-funding-shapes-criminal-justice\n",
    "https://www.britannica.com/topic/war-on-drugs"
   ]
  },
  {
   "cell_type": "markdown",
   "id": "1c013627-adef-4895-9532-669e156b0032",
   "metadata": {},
   "source": [
    "Congratulations on finishing Notebook 1!\n"
   ]
  },
  {
   "cell_type": "code",
   "execution_count": null,
   "id": "3578c109-36e8-4782-ab3a-e7e99ac058ca",
   "metadata": {},
   "outputs": [],
   "source": []
  }
 ],
 "metadata": {
  "kernelspec": {
   "display_name": "Python 3 (ipykernel)",
   "language": "python",
   "name": "python3"
  },
  "language_info": {
   "codemirror_mode": {
    "name": "ipython",
    "version": 3
   },
   "file_extension": ".py",
   "mimetype": "text/x-python",
   "name": "python",
   "nbconvert_exporter": "python",
   "pygments_lexer": "ipython3",
   "version": "3.11.11"
  }
 },
 "nbformat": 4,
 "nbformat_minor": 5
}
