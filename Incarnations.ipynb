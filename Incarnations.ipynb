{
 "cells": [
  {
   "cell_type": "markdown",
   "id": "6a0e4251-db39-4ca1-86cd-6bd4ccd96e71",
   "metadata": {},
   "source": [
    "# Incarnations and Race\n",
    " \n",
    "---\n",
    "\n",
    "\n",
    "You will be learning about events in hsitory that have impacted incarceration rates and diffrent races. \n",
    "\n",
    "\n",
    "*Estimated Time: ~30 Minutes*\n",
    "\n",
    "---\n",
    "1. Introduction to data \n",
    "    \n",
    "2. War on Drugs \n",
    "\n",
    "3. Redlining \n",
    "\n",
    " "
   ]
  },
  {
   "cell_type": "markdown",
   "id": "61961c87-7bcf-456f-b2c8-3b4dfdd9313c",
   "metadata": {},
   "source": [
    "# Introduction "
   ]
  },
  {
   "cell_type": "markdown",
   "id": "a5d76fca-9b80-4fb1-a0df-9f69c4f0cb07",
   "metadata": {},
   "source": [
    "### Import Libraries \n",
    "To start off with we need to load in some libraries, things like Numpy that we learned. Run the cell below to do so"
   ]
  },
  {
   "cell_type": "code",
   "execution_count": 1,
   "id": "0878bd54-237e-40cc-b7cb-ff1cce809a0c",
   "metadata": {},
   "outputs": [],
   "source": [
    "from datascience import * # Loads functions from the datascience library into our current environment\n",
    "import numpy as np # Loads numerical functions\n",
    "import math, random # Loads math and random functions\n",
    "import pandas as pd \n",
    "import matplotlib.pyplot as plt\n",
    "import seaborn as sns\n",
    "from IPython.display import display, Latex, Markdown\n",
    "%matplotlib inline\n",
    "import plotly.express as px\n",
    "import ipywidgets as widgets\n",
    "from IPython.display import display\n",
    "from ipywidgets import interact\n",
    "import warnings\n",
    "warnings.filterwarnings('ignore')"
   ]
  },
  {
   "cell_type": "markdown",
   "id": "7d3474d2-df13-4046-9f1d-5ba892df3571",
   "metadata": {},
   "source": [
    "### Data \n",
    "The Department of Justice (DOJ) Criminal Justice Statistics Center (CJSC) collects information on arrests\n",
    "and citations (from now on referred to as “arrest(s)”) as reported by law enforcement agencies (LEA)\n",
    "throughout the state. The Monthly Arrest and Citation Register (MACR) data are reported monthly by\n",
    "law enforcement agencies (LEAs) throughout the state. Summary arrest counts are submitted to the\n",
    "Federal Bureau of Investigation’s (FBI), Uniform Crime Reporting Program (UCR). Arrest data provides\n",
    "information on felony and misdemeanor level arrests for adults and juveniles and status offenses (e.g.,\n",
    "truancy, incorrigibility, running away, and curfew violations) for juveniles. Arrest data includes\n",
    "aggregated arrest counts by reporting county, age, gender, and race/ethnic group of arrestee, while\n",
    "the Arrest Disposition data also includes the law enforcement disposition. \n",
    "\n",
    "\n",
    "Run the cell bellow to load in our data and look at the first couple of rows, and see the columns "
   ]
  },
  {
   "cell_type": "code",
   "execution_count": 2,
   "id": "1d501274-5ec3-457b-84e0-bb3401b19bf6",
   "metadata": {},
   "outputs": [
    {
     "data": {
      "text/html": [
       "<table border=\"1\" class=\"dataframe\">\n",
       "    <thead>\n",
       "        <tr>\n",
       "            <th>YEAR</th> <th>GENDER</th> <th>RACE</th> <th>AGE_GROUP</th> <th>COUNTY</th> <th>VIOLENT</th> <th>PROPERTY</th> <th>F_DRUGOFF</th> <th>F_SEXOFF</th> <th>F_ALLOTHER</th> <th>F_TOTAL</th> <th>M_TOTAL</th> <th>S_TOTAL</th> <th>Sum Total</th>\n",
       "        </tr>\n",
       "    </thead>\n",
       "    <tbody>\n",
       "        <tr>\n",
       "            <td>1980</td> <td>Male  </td> <td>Black   </td> <td>Under 18   </td> <td>Alameda County</td> <td>505    </td> <td>1351    </td> <td>188      </td> <td>26      </td> <td>79        </td> <td>2149   </td> <td>2286   </td> <td>295    </td> <td>4730     </td>\n",
       "        </tr>\n",
       "        <tr>\n",
       "            <td>1980</td> <td>Male  </td> <td>Black   </td> <td>18 to 19   </td> <td>Alameda County</td> <td>205    </td> <td>465     </td> <td>183      </td> <td>8       </td> <td>48        </td> <td>909    </td> <td>1333   </td> <td>0      </td> <td>2242     </td>\n",
       "        </tr>\n",
       "        <tr>\n",
       "            <td>1980</td> <td>Male  </td> <td>Black   </td> <td>20 to 29   </td> <td>Alameda County</td> <td>949    </td> <td>1593    </td> <td>606      </td> <td>27      </td> <td>178       </td> <td>3353   </td> <td>7974   </td> <td>0      </td> <td>11327    </td>\n",
       "        </tr>\n",
       "        <tr>\n",
       "            <td>1980</td> <td>Male  </td> <td>Black   </td> <td>30 to 39   </td> <td>Alameda County</td> <td>450    </td> <td>755     </td> <td>241      </td> <td>18      </td> <td>110       </td> <td>1574   </td> <td>4876   </td> <td>0      </td> <td>6450     </td>\n",
       "        </tr>\n",
       "        <tr>\n",
       "            <td>1980</td> <td>Male  </td> <td>Black   </td> <td>40 to 69   </td> <td>Alameda County</td> <td>172    </td> <td>218     </td> <td>117      </td> <td>11      </td> <td>66        </td> <td>584    </td> <td>3836   </td> <td>0      </td> <td>4420     </td>\n",
       "        </tr>\n",
       "        <tr>\n",
       "            <td>1980</td> <td>Male  </td> <td>Black   </td> <td>70 and over</td> <td>Alameda County</td> <td>4      </td> <td>2       </td> <td>2        </td> <td>0       </td> <td>0         </td> <td>8      </td> <td>79     </td> <td>0      </td> <td>87       </td>\n",
       "        </tr>\n",
       "        <tr>\n",
       "            <td>1980</td> <td>Male  </td> <td>Hispanic</td> <td>Under 18   </td> <td>Alameda County</td> <td>151    </td> <td>365     </td> <td>40       </td> <td>9       </td> <td>77        </td> <td>642    </td> <td>1303   </td> <td>187    </td> <td>2132     </td>\n",
       "        </tr>\n",
       "        <tr>\n",
       "            <td>1980</td> <td>Male  </td> <td>Hispanic</td> <td>18 to 19   </td> <td>Alameda County</td> <td>83     </td> <td>89      </td> <td>48       </td> <td>0       </td> <td>58        </td> <td>278    </td> <td>963    </td> <td>0      </td> <td>1241     </td>\n",
       "        </tr>\n",
       "        <tr>\n",
       "            <td>1980</td> <td>Male  </td> <td>Hispanic</td> <td>20 to 29   </td> <td>Alameda County</td> <td>226    </td> <td>243     </td> <td>158      </td> <td>13      </td> <td>86        </td> <td>726    </td> <td>3748   </td> <td>0      </td> <td>4474     </td>\n",
       "        </tr>\n",
       "        <tr>\n",
       "            <td>1980</td> <td>Male  </td> <td>Hispanic</td> <td>30 to 39   </td> <td>Alameda County</td> <td>59     </td> <td>80      </td> <td>41       </td> <td>8       </td> <td>33        </td> <td>221    </td> <td>1669   </td> <td>0      </td> <td>1890     </td>\n",
       "        </tr>\n",
       "    </tbody>\n",
       "</table>\n",
       "<p>... (107040 rows omitted)</p>"
      ],
      "text/plain": [
       "YEAR | GENDER | RACE     | AGE_GROUP   | COUNTY         | VIOLENT | PROPERTY | F_DRUGOFF | F_SEXOFF | F_ALLOTHER | F_TOTAL | M_TOTAL | S_TOTAL | Sum Total\n",
       "1980 | Male   | Black    | Under 18    | Alameda County | 505     | 1351     | 188       | 26       | 79         | 2149    | 2286    | 295     | 4730\n",
       "1980 | Male   | Black    | 18 to 19    | Alameda County | 205     | 465      | 183       | 8        | 48         | 909     | 1333    | 0       | 2242\n",
       "1980 | Male   | Black    | 20 to 29    | Alameda County | 949     | 1593     | 606       | 27       | 178        | 3353    | 7974    | 0       | 11327\n",
       "1980 | Male   | Black    | 30 to 39    | Alameda County | 450     | 755      | 241       | 18       | 110        | 1574    | 4876    | 0       | 6450\n",
       "1980 | Male   | Black    | 40 to 69    | Alameda County | 172     | 218      | 117       | 11       | 66         | 584     | 3836    | 0       | 4420\n",
       "1980 | Male   | Black    | 70 and over | Alameda County | 4       | 2        | 2         | 0        | 0          | 8       | 79      | 0       | 87\n",
       "1980 | Male   | Hispanic | Under 18    | Alameda County | 151     | 365      | 40        | 9        | 77         | 642     | 1303    | 187     | 2132\n",
       "1980 | Male   | Hispanic | 18 to 19    | Alameda County | 83      | 89       | 48        | 0        | 58         | 278     | 963     | 0       | 1241\n",
       "1980 | Male   | Hispanic | 20 to 29    | Alameda County | 226     | 243      | 158       | 13       | 86         | 726     | 3748    | 0       | 4474\n",
       "1980 | Male   | Hispanic | 30 to 39    | Alameda County | 59      | 80       | 41        | 8        | 33         | 221     | 1669    | 0       | 1890\n",
       "... (107040 rows omitted)"
      ]
     },
     "execution_count": 2,
     "metadata": {},
     "output_type": "execute_result"
    }
   ],
   "source": [
    "arrest= pd.read_csv('OnlineArrestData.csv') #data\n",
    "arrest['Sum Total']= arrest['F_TOTAL']+arrest['M_TOTAL']+arrest['S_TOTAL']\n",
    "incarnations= Table.from_df(arrest) \n",
    "incarnations"
   ]
  },
  {
   "cell_type": "markdown",
   "id": "3f0c8e5d-258c-462e-8c49-7e4fda61cd22",
   "metadata": {},
   "source": [
    "Each row represents an gender,race, and age group of a particular year ranging from 1980 to 2023. Each row contain information on incarserations number. \n",
    "Play the next play the cell below to see our columns "
   ]
  },
  {
   "cell_type": "code",
   "execution_count": 3,
   "id": "9b5badca-0096-45df-9ce8-7e5288e2c24d",
   "metadata": {},
   "outputs": [
    {
     "name": "stdout",
     "output_type": "stream",
     "text": [
      "('YEAR', 'GENDER', 'RACE', 'AGE_GROUP', 'COUNTY', 'VIOLENT', 'PROPERTY', 'F_DRUGOFF', 'F_SEXOFF', 'F_ALLOTHER', 'F_TOTAL', 'M_TOTAL', 'S_TOTAL', 'Sum Total')\n"
     ]
    }
   ],
   "source": [
    "print(incarnations.labels)"
   ]
  },
  {
   "cell_type": "markdown",
   "id": "1f779965-9a34-4c5a-82b2-1db36db5f082",
   "metadata": {},
   "source": [
    "### Review of Column Labels and Their Descriptions\n",
    "\n",
    "Year – The year, ranging from 1980 to 2023.\n",
    "\n",
    "Gender – Data collected includes only two categories of gender: male and female.\n",
    "\n",
    "Race – Categorized as White, Black, Hispanic, and Other.\n",
    "\n",
    "Age Group – Grouped as: Under 18; \n",
    "                        18-19;\n",
    "                        20-29;\n",
    "                        30-39;\n",
    "                        40-69;\n",
    "                        70+\n",
    "\n",
    "County – The county in California from which the data was collected.\n",
    "\n",
    "Violent – The number of crimes classified as violent felonies.\n",
    "\n",
    "Property – The number of crimes classified as property felonies.\n",
    "\n",
    "F_Drugoff – The number of crimes classified as drug felonies.\n",
    "\n",
    "F_Sexoff – The number of crimes classified as sex felonies.\n",
    "\n",
    "F_ALLOTHER – Other felonies that were not properly classified.\n",
    "\n",
    "F_Totalsum – The total sum of all felony arrests.\n",
    "\n",
    "M_Totalsum – The total sum of all misdemeanor arrests.\n",
    "\n",
    "S_Total – The total sum of status offenses.\n",
    "\n",
    "Sum Total – The total number of arrests.\n"
   ]
  },
  {
   "cell_type": "markdown",
   "id": "85f2ea34-16c9-4784-96f7-c79abf2ed48c",
   "metadata": {},
   "source": [
    "## First look at data \n",
    "In the cell below, you'll find a widget that displays the number of drug arrests by year. This widget allows you to interact with the data and select the range of years you'd like to explore. In the following cell, adjust the slider to examine trends over the years of all Fellony Arrests "
   ]
  },
  {
   "cell_type": "code",
   "execution_count": 4,
   "id": "8d6ce0f2-248c-4199-ab7b-4779489985b9",
   "metadata": {},
   "outputs": [
    {
     "data": {
      "application/vnd.jupyter.widget-view+json": {
       "model_id": "8929739a32874a80b214c0a4ae1a16e7",
       "version_major": 2,
       "version_minor": 0
      },
      "text/plain": [
       "interactive(children=(IntRangeSlider(value=(1990, 2012), description='Year Range:', max=2023, min=1980), Outpu…"
      ]
     },
     "metadata": {},
     "output_type": "display_data"
    }
   ],
   "source": [
    "year_slider= widgets.IntRangeSlider(min=1980, max=2023, step=1, description=\"Year Range:\", continuous_update= True)\n",
    "\n",
    "def plot_arrest(years):\n",
    "    sum_arrest= arrest[(arrest['YEAR']<=years[1]) & (arrest['YEAR']>=years[0])][['YEAR','F_TOTAL']].groupby('YEAR').sum().reset_index()\n",
    "    sns.lineplot(data = sum_arrest, x= 'YEAR', y='F_TOTAL')\n",
    "    plt.title(\"Arrest\")\n",
    "    plt.show()\n",
    "\n",
    "\n",
    "display(widgets.interactive(plot_arrest, years=year_slider))\n"
   ]
  },
  {
   "cell_type": "markdown",
   "id": "1b064524-e523-4ed6-b94d-685ee1a66c9a",
   "metadata": {},
   "source": [
    "# War On Drugs \n",
    "\n",
    "## Intro\n",
    "The War on Drugs, launched in the 1970s and intensified in the 1980s, led to a surge in drug arrests by 1990 due to harsh federal policies like the Anti-Drug Abuse Acts of 1986 and 1988, which imposed mandatory minimum sentences and created a 100:1 sentencing disparity between crack and powder cocaine, disproportionately affecting Black communities. The Bush administration expanded \"tough on crime\" policing, including Operation Pipeline, which increased drug-related stops and arrests. Law enforcement shifted focus to street-level drug offenses, targeting users and low-level dealers rather than major traffickers. The rise of three-strikes laws and harsher sentencing further drove up incarceration rates. Meanwhile, media-fueled fears of a “crack epidemic” reinforced racialized policing and political rhetoric, justifying aggressive drug enforcement. As a result, 1990 saw a spike in drug possession arrests, particularly among minorities, contributing to the long-term trend of mass incarceration in the U.S.\n",
    "\n",
    "This next widget allows you to explore drug arrest trends adjust the widget to see how the War on Drugs influenced overall drug arrests, based on the timing of legislation.\n",
    "\n"
   ]
  },
  {
   "cell_type": "code",
   "execution_count": 5,
   "id": "5f4118f0-0446-4c5c-ba24-e6aa4b284515",
   "metadata": {},
   "outputs": [
    {
     "data": {
      "application/vnd.jupyter.widget-view+json": {
       "model_id": "f898de27dd6f4536a38bd653937fd759",
       "version_major": 2,
       "version_minor": 0
      },
      "text/plain": [
       "interactive(children=(IntRangeSlider(value=(1990, 2012), description='Year Range:', max=2023, min=1980), Outpu…"
      ]
     },
     "metadata": {},
     "output_type": "display_data"
    }
   ],
   "source": [
    "def plot_drug_arrest(years):\n",
    "    plt.clf()\n",
    "    drug_arrest= arrest[(arrest['YEAR']<=years[1]) & (arrest['YEAR']>=years[0])][['YEAR','F_DRUGOFF']].groupby('YEAR').sum().reset_index()\n",
    "    sns.lineplot(data = drug_arrest, x= 'YEAR', y='F_DRUGOFF', label = 'Drugs')\n",
    "    plt.title(\"Drug Arrest\")\n",
    "    plt.show()\n",
    "\n",
    "display(widgets.interactive(plot_drug_arrest, years=year_slider))\n"
   ]
  },
  {
   "cell_type": "markdown",
   "id": "d8eac1cb-fe35-45ad-8346-96c7d994408b",
   "metadata": {},
   "source": [
    "## Race Impacts\n",
    "The War on Drugs disproportionately impacted people of color, particularly Black Americans, despite their relatively small share of the overall U.S. population. While drug use rates are similar across racial groups, harsh policies—like mandatory minimum sentences and crack cocaine laws—targeted urban communities where Black and Latino populations were concentrated. As a result, Black individuals faced drug-related incarceration at significantly higher rates than white individuals. Despite making up only about 13% of the U.S. population, Black people have historically accounted for a disproportionate percentage of drug arrests and incarcerations. This racial disparity wasn’t just a coincidence—it was fueled by systemic biases in policing, sentencing, and media portrayals that criminalized Black communities at a much higher rate than their white counterparts.\n",
    "\n",
    "### Crack vs Powder Cocaine\n",
    "The disparity was established by the Anti-Drug Abuse Act of 1986, which was passed during the height of the War on Drugs. The law created a mandatory minimum sentence of 5 years for possession of 5 grams of crack cocaine (about the weight of a small sugar packet), while the same mandatory sentence was imposed for possession of 500 grams of powder cocaine (about a pound of cocaine).\n",
    "\n",
    "In essence, someone caught with one gram of crack cocaine would face the same prison sentence as someone caught with 100 grams of powder cocaine, even though the drugs are chemically similar. Crack cocaine was more prevalent in urban, particularly Black, communities, while powder cocaine was more commonly associated with wealthier, white communities.\n",
    "\n",
    "In the next cell, use the dropdown to select the race you'd like to display, and try to observe the differences. You can also adjust the year range— we recommend setting it from 1980 to 1990.\n"
   ]
  },
  {
   "cell_type": "code",
   "execution_count": 8,
   "id": "e347f157-b698-4cc7-be46-24cefeb983d7",
   "metadata": {},
   "outputs": [
    {
     "data": {
      "application/vnd.jupyter.widget-view+json": {
       "model_id": "9a25cd229b16475bbd40e12d78824382",
       "version_major": 2,
       "version_minor": 0
      },
      "text/plain": [
       "interactive(children=(Dropdown(description='race', options=('White', 'Black', 'Hispanic', 'Other'), value='Whi…"
      ]
     },
     "metadata": {},
     "output_type": "display_data"
    }
   ],
   "source": [
    "race_dropdown= widgets.Dropdown(options=['White', \"Black\", \"Hispanic\", \"Other\"])\n",
    "\n",
    "def drug_plot_race(race, years):\n",
    "    race_drug_arrest= arrest[(arrest['RACE']== race) & (arrest['YEAR']<=years[1]) & (arrest['YEAR']>=years[0])][['YEAR','F_DRUGOFF']].groupby('YEAR').sum().reset_index()\n",
    "    sns.lineplot(data= race_drug_arrest,  x= 'YEAR', y= 'F_DRUGOFF')\n",
    "    plt.title(race + \" Drug Arrest\")\n",
    "    plt.show()\n",
    "\n",
    "display(widgets.interactive(drug_plot_race, race= race_dropdown, years= year_slider))"
   ]
  },
  {
   "cell_type": "markdown",
   "id": "cee7d9cb-8cff-4665-8d6e-7e02cf8d2e11",
   "metadata": {},
   "source": [
    "It's challenging to compare different races on separate graphs, but as data scientists, this is something we need to do. To make it easier, we create overlapping graphs. Using the widget below, select the races you want to graph together (make sure to view all of them together in the end). You can also adjust the year range— we recommend setting it from 1980 to 1990. \n",
    "\n",
    "Warning: The graph will only plot/ update if you have selcted a race/races and shifited the year slider. "
   ]
  },
  {
   "cell_type": "code",
   "execution_count": 9,
   "id": "24d5a151-ef9a-4eff-bac6-6f2616c35577",
   "metadata": {},
   "outputs": [
    {
     "data": {
      "application/vnd.jupyter.widget-view+json": {
       "model_id": "51a3778a9d8f4987b3e4f3696ee4c40b",
       "version_major": 2,
       "version_minor": 0
      },
      "text/plain": [
       "VBox(children=(Checkbox(value=False, description='White'), Checkbox(value=False, description='Black'), Checkbo…"
      ]
     },
     "metadata": {},
     "output_type": "display_data"
    },
    {
     "data": {
      "application/vnd.jupyter.widget-view+json": {
       "model_id": "c7a6a91c23774523b800bddd1f8aeac8",
       "version_major": 2,
       "version_minor": 0
      },
      "text/plain": [
       "interactive(children=(IntRangeSlider(value=(1980, 1990), description='Year Range:', max=2023, min=1980), Outpu…"
      ]
     },
     "metadata": {},
     "output_type": "display_data"
    }
   ],
   "source": [
    "checkboxes = [\n",
    "    widgets.Checkbox(description='White'),\n",
    "    widgets.Checkbox(description='Black'),\n",
    "    widgets.Checkbox(description='Hispanic'),\n",
    "    widgets.Checkbox(description='Other')\n",
    "]\n",
    "\n",
    "def get_selected_races():\n",
    "    \"\"\"Extract selected race values from checkboxes.\"\"\"\n",
    "    return [cb.description for cb in checkboxes if cb.value]\n",
    "\n",
    "def plot_races(years):\n",
    "    \"\"\"Plot drug arrests for selected races over the given year range.\"\"\"\n",
    "    selected_races = get_selected_races()  # Get selected checkboxes\n",
    "\n",
    "    # Filter dataset\n",
    "    race_drug_arrest = arrest[\n",
    "        (arrest['YEAR'] <= years[1]) & \n",
    "        (arrest['YEAR'] >= years[0]) &\n",
    "        (arrest['RACE'].isin(selected_races))\n",
    "    ].groupby(['YEAR', 'RACE'])['F_DRUGOFF'].sum().reset_index()\n",
    "\n",
    "    # Plot each selected race\n",
    "    plt.figure(figsize=(10, 5))\n",
    "    for race in selected_races:\n",
    "        subset = race_drug_arrest[race_drug_arrest['RACE'] == race]\n",
    "        sns.lineplot(data=subset, x='YEAR', y='F_DRUGOFF', label=race)\n",
    "    \n",
    "    plt.legend()\n",
    "    plt.title('Drug Arrests by Race Over Time')\n",
    "    plt.xlabel('Year')\n",
    "    plt.ylabel('Number of Drug Arrests')\n",
    "    plt.show()\n",
    "\n",
    "# Create interactive widget\n",
    "display(widgets.VBox(checkboxes), widgets.interactive(plot_races, years=year_slider))"
   ]
  },
  {
   "cell_type": "markdown",
   "id": "3b237fc9-77ff-47ca-9685-fc0c6fe7551b",
   "metadata": {},
   "source": [
    "## Rate of Growth \n",
    "\n",
    "Getting numbers. It's nice to see things visualy but let's see statisicult how much arrest went up for each race from 1980's to 1989. Use the drop down to display the various percent growth rates."
   ]
  },
  {
   "cell_type": "code",
   "execution_count": 10,
   "id": "8f88bba9-87a2-4dc8-87b5-88d7ad6a705f",
   "metadata": {},
   "outputs": [
    {
     "data": {
      "application/vnd.jupyter.widget-view+json": {
       "model_id": "e2d0467a5d3549a68264b05b399ad16a",
       "version_major": 2,
       "version_minor": 0
      },
      "text/plain": [
       "interactive(children=(Dropdown(description='race', options=('White', 'Black', 'Hispanic', 'Other'), value='Whi…"
      ]
     },
     "metadata": {},
     "output_type": "display_data"
    }
   ],
   "source": [
    "race_dropdown= widgets.Dropdown(options=['White', \"Black\", \"Hispanic\", \"Other\"])\n",
    "\n",
    "def drug_percentage_increase(race):\n",
    "    race_drug_arrest = arrest[['YEAR','F_DRUGOFF','RACE']].groupby(['YEAR','RACE']).sum().reset_index()\n",
    "    drug_arrest = Table.from_df(race_drug_arrest)\n",
    "    eighty = drug_arrest.where('YEAR',1980).where('RACE', race).column('F_DRUGOFF')[0]\n",
    "    ninety=  drug_arrest.where('YEAR',1989).where('RACE', race).column('F_DRUGOFF')[0]\n",
    "    return print( 'From 1980 to 1989 ' + race + \" people had a \"+ str(((ninety-eighty)/eighty)*100) + \" percent growth rate\") \n",
    "\n",
    "display(widgets.interactive(drug_percentage_increase, race= race_dropdown))"
   ]
  },
  {
   "cell_type": "markdown",
   "id": "fd0d2765-3827-4b06-bc34-e493e710a5b7",
   "metadata": {},
   "source": [
    "## Question: Reflect on the data above\n",
    "How did the War on Drugs impact incarceration numbers? How did it affect different races? Black people made up around 7%, white poeple made up 60%, Hispanic people made up 25% of California's population in the 1980s and 1990s—how does this influence your understanding of the data? Answer in the cell below \n",
    "\n",
    "Stats of Race Percent Population in 1980's Again: \n",
    "\n",
    "    White (Non-Hispanic): Approximately 60%\n",
    "\n",
    "    Hispanic or Latino: Around 25%\n",
    "\n",
    "    Black or African American: About 7%\n",
    "\n",
    "    Asian: Roughly 4-5%\n"
   ]
  },
  {
   "cell_type": "markdown",
   "id": "9fc02d5d-f76e-49a1-a162-c885dd93d798",
   "metadata": {},
   "source": [
    "# Answer here  "
   ]
  },
  {
   "cell_type": "markdown",
   "id": "50cd9fd6-ee1f-49de-b6c2-3ac8ea7f6d8b",
   "metadata": {},
   "source": [
    "## 90's Drug Arrest Drop \n",
    "In the early 1990s, law enforcement in California and across the U.S. shifted its focus from low-level drug offenses to violent crime and gang-related activity. This change was largely driven by growing concerns over public safety and rising crime rates, leading to policies that prioritized harsher sentencing for repeat offenders. The 1994 Crime Bill played a significant role in this shift by increasing funding for law enforcement and expanding the prison system. Additionally, California’s Three Strikes Law, enacted in 1994, imposed life sentences on individuals convicted of three serious crimes, further redirecting law enforcement efforts toward violent and high-profile offenses. As a result, while drug-related arrests declined, overall incarceration rates remained high due to the crackdown on repeat offenders.\n",
    "\n",
    "Use the widget below to see how total felony arrests have changed over the years compared to drug-related felony arrests during this period. To see if we see a the trend of drug-related arrests declined while overall incarceration rates remained high due to the crackdown on repeat offenders."
   ]
  },
  {
   "cell_type": "code",
   "execution_count": 16,
   "id": "e56d8782-cfd5-46e8-be87-9cc2b0f60e93",
   "metadata": {},
   "outputs": [
    {
     "data": {
      "application/vnd.jupyter.widget-view+json": {
       "model_id": "6fb48d14ff2244b2b7821d8fc7690178",
       "version_major": 2,
       "version_minor": 0
      },
      "text/plain": [
       "interactive(children=(Dropdown(description='arrest_type', options=('F_DRUGOFF', 'F_TOTAL'), value='F_DRUGOFF')…"
      ]
     },
     "metadata": {},
     "output_type": "display_data"
    }
   ],
   "source": [
    "arrest_dropdown= widgets.Dropdown(options=['F_DRUGOFF','F_TOTAL'])\n",
    "def plot_arrest(arrest_type,years):\n",
    "    sum_arrest= arrest[(arrest['YEAR']<=years[1]) & (arrest['YEAR']>=years[0])][['YEAR',arrest_type]].groupby('YEAR').sum().reset_index()\n",
    "    sns.lineplot(data = sum_arrest, x= 'YEAR', y=arrest_type)\n",
    "    plt.title(arrest_type)\n",
    "    plt.show()\n",
    "\n",
    "display(widgets.interactive(plot_arrest, arrest_type=arrest_dropdown, years=year_slider))"
   ]
  },
  {
   "cell_type": "markdown",
   "id": "3bcd3d44-fca9-4a90-90dd-864233ea1cff",
   "metadata": {},
   "source": [
    "Now to see the relationship between drug arrest vs violence arrest observe the violence arrest graph below, then to compare them to drug arrest click the check box by overlay"
   ]
  },
  {
   "cell_type": "code",
   "execution_count": 21,
   "id": "b5f4bbed-57e7-485b-91d4-5ae932047fb1",
   "metadata": {},
   "outputs": [
    {
     "data": {
      "application/vnd.jupyter.widget-view+json": {
       "model_id": "2aac9f67cb894b6fb48555a05868eb35",
       "version_major": 2,
       "version_minor": 0
      },
      "text/plain": [
       "interactive(children=(IntRangeSlider(value=(1980, 2023), description='Year Range:', max=2023, min=1980), Check…"
      ]
     },
     "metadata": {},
     "output_type": "display_data"
    }
   ],
   "source": [
    "def plot_violence(years, overlay):\n",
    "\n",
    "    if overlay: \n",
    "        drug_arrest= arrest[(arrest['YEAR']<=years[1]) & (arrest['YEAR']>=years[0])][['YEAR','F_DRUGOFF']].groupby('YEAR').sum().reset_index()\n",
    "        violent_arrest= arrest[(arrest['YEAR']<=years[1]) & (arrest['YEAR']>=years[0])][['YEAR','VIOLENT']].groupby('YEAR').sum().reset_index()\n",
    "        sns.lineplot(data = drug_arrest, x= 'YEAR', y='F_DRUGOFF', label = 'Drugs')\n",
    "        sns.lineplot(data = violent_arrest, x= 'YEAR', y='VIOLENT', label= 'VIOLENT')\n",
    "        plt.legend()\n",
    "        plt.show()\n",
    "\n",
    "\n",
    "\n",
    "    else:\n",
    "        violent_arrest= arrest[(arrest['YEAR']<=years[1]) & (arrest['YEAR']>=years[0])][['YEAR','VIOLENT']].groupby('YEAR').sum().reset_index()\n",
    "        sns.lineplot(data = violent_arrest, x= 'YEAR', y='VIOLENT', label= 'VIOLENT')\n",
    "        plt.legend()\n",
    "        plt.show()\n",
    "        \n",
    "    \n",
    "display(widgets.interactive(plot_violence, years=year_slider, overlay = False))"
   ]
  },
  {
   "cell_type": "markdown",
   "id": "8e10a774-a6fd-463a-b14e-c973a3890d55",
   "metadata": {},
   "source": [
    "# Intro to Redlining and Gentrification\n",
    "Redlining and gentrification are interconnected processes that both shape urban landscapes and impact marginalized communities. Redlining, a discriminatory practice where certain neighborhoods, often predominantly inhabited by people of color, were marked as high-risk areas for investment, created long-lasting disparities in housing and economic opportunities. These areas were historically denied access to loans, infrastructure, and public services, leading to cycles of poverty and disinvestment. As gentrification occurs, these once-redlined neighborhoods are targeted for redevelopment, bringing in wealthier, often predominantly white, residents. While gentrification can lead to economic revitalization, it also displaces the lower-income communities that have historically lived in these areas, exacerbating social inequalities.\n",
    "\n",
    "Gentrification is particularly harmful to marginalized communities because it leads to the displacement of residents, loss of affordable housing, and the erasure of cultural identity. As property values rise and new developments cater to wealthier residents, longtime residents—often people of color—are pushed out of their neighborhoods. This displacement disrupts communities, breaking apart long-established social networks and support systems. The increase in living costs makes it harder for low-income individuals and families to stay in the area, leading to increased economic stress. Gentrification also brings increased surveillance and policing, often targeting the very communities that are being displaced. This can deepen feelings of marginalization and result in higher rates of criminalization for those left behind.\n",
    "\n",
    "                                                                                                            \n",
    "To- Do: Use the widget below to display felony arrests across different counties. Explore the data and make some initial observations. Consider: Does the historical information provided above align with the trends shown? In what ways?"
   ]
  },
  {
   "cell_type": "code",
   "execution_count": 22,
   "id": "f50776db-9197-4c55-b302-db319a16d0fa",
   "metadata": {},
   "outputs": [
    {
     "data": {
      "application/vnd.jupyter.widget-view+json": {
       "model_id": "1dbaf82576f241568c4de9b86a1d9cd5",
       "version_major": 2,
       "version_minor": 0
      },
      "text/plain": [
       "interactive(children=(Dropdown(description='x', options=('Alameda County', 'Alpine County', 'Amador County', '…"
      ]
     },
     "metadata": {},
     "output_type": "display_data"
    }
   ],
   "source": [
    "county_dropdown= widgets.Dropdown(options= arrest['COUNTY'].unique())\n",
    "\n",
    "def map_f_arrest(x): \n",
    "    sum_arrest= arrest[(arrest['COUNTY']== x)][['YEAR','F_TOTAL']].groupby('YEAR').sum().reset_index()\n",
    "    sns.lineplot(data = sum_arrest, x= 'YEAR', y='F_TOTAL')\n",
    "    plt.show()\n",
    "    race_arrest = arrest[arrest['COUNTY']== x][['YEAR','F_TOTAL','RACE']].groupby(['YEAR','RACE']).sum().reset_index()\n",
    "    for race in arrest['RACE'].unique():\n",
    "        sns.lineplot(data = race_arrest[race_arrest['RACE']== race ],  x= 'YEAR', y= 'F_TOTAL',label= race)\n",
    "        plt.legend()\n",
    "    \n",
    "    plt.show()\n",
    "\n",
    "\n",
    "\n",
    "display(widgets.interactive(map_f_arrest, x=county_dropdown))"
   ]
  },
  {
   "cell_type": "markdown",
   "id": "b643a846-adc7-4a61-9b40-fe4de37f4d1e",
   "metadata": {},
   "source": [
    "Data science is a powerful tool, but it doesn't always have access to the full picture. In the case of gentrification and its effects on crime, for example, we might rely on county-level data to track trends, but these broader datasets can miss the nuances that are essential for a complete understanding. County-level data may show a decrease in crime rates, but that doesn’t account for the displacement of marginalized communities, the rise in surveillance, or the social upheaval occurring at the neighborhood level. To draw more accurate and truthful conclusions, data scientists need to recognize the gaps in their data and acknowledge the context these numbers exist within. Without considering the underlying social dynamics, such as increased policing, changes in community structure, and economic pressures, the analysis can paint an incomplete picture. Understanding these limitations and the broader context is essential for drawing more accurate insights and making informed, responsible decisions.\n",
    "\n",
    "To-do: Choose a couple of the counties below and read about how gentrification has impacted them. Then, use the widget above to explore the data and make observations. How does the historical information provided align with the trends shown? In what ways?\n",
    "\n",
    "\n",
    "### County information\n",
    "1. San Francisco County\n",
    "Gentrification Start: Early 1990s\n",
    "San Francisco’s neighborhoods like the Mission District, Tenderloin, and Bayview-Hunters Point have seen significant gentrification, driven by tech industry growth, especially in the 1990s and 2000s. Rising housing costs and the influx of wealthier residents displaced long-time working-class communities.\n",
    "2. Los Angeles County\n",
    "Gentrification Start: Early 2000s (accelerated in 2010s)\n",
    "Areas such as Downtown LA, Echo Park, Silver Lake, and Highland Park have experienced gentrification as real estate development, rising rents, and an influx of young professionals and artists transformed these historically lower-income, immigrant, and minority communities.\n",
    "3. Oakland (Alameda County)\n",
    "Gentrification Start: Mid-2000s\n",
    "Gentrification in Oakland has been noticeable in neighborhoods like West Oakland, Fruitvale, and Uptown. As housing costs in San Francisco increased, Oakland became a more attractive option for people seeking affordable living, which led to an influx of higher-income residents and subsequent displacement.\n",
    "4. Santa Clara County (San Jose)\n",
    "Gentrification Start: Early 2000s\n",
    "With the tech boom in Silicon Valley, areas around downtown San Jose and the surrounding cities have experienced significant gentrification, particularly from the 2000s onward. The rising demand for housing due to the tech industry has led to displacement in lower-income, predominantly Latino communities.\n",
    "5. San Diego County\n",
    "Gentrification Start: Mid-2000s\n",
    "Areas such as North Park, Logan Heights, and Barrio Logan have been gentrifying as rising property values, especially along the coast and near downtown, have drawn wealthier residents into traditionally working-class Latino neighborhoods. This process accelerated in the 2010s as San Diego’s real estate market grew.\n",
    "6. Sacramento County\n",
    "Gentrification Start: 2010s\n",
    "Sacramento has seen gentrification in neighborhoods such as Oak Park, Midtown, and the River District, as both the state capital’s economy and the overall housing market in the region have improved. With rising rents and the development of new housing and businesses, long-time residents have faced displacement.\n",
    "7. Riverside County\n",
    "Gentrification Start: Mid-2010s\n",
    "Although not as well-known for gentrification as coastal areas, Riverside and its neighboring cities, like Moreno Valley, have begun experiencing gentrification as people seek more affordable housing compared to LA. New developments and rising rent prices are pushing lower-income communities out of these areas.\n",
    "8. Ventura County\n",
    "Gentrification Start: Early 2000s\n",
    "Cities such as Oxnard and Ventura have experienced gentrification, particularly as housing prices in the surrounding Los Angeles area increased, prompting people to move further out. The transformation has been particularly visible in urban areas that were once more affordable to working-class Latino families."
   ]
  },
  {
   "cell_type": "markdown",
   "id": "f243bcb1-9aa4-488e-8231-1e3d3ce730ee",
   "metadata": {},
   "source": [
    "#write your obserations here "
   ]
  },
  {
   "cell_type": "markdown",
   "id": "2c974708-5531-4070-95f2-402b221602ee",
   "metadata": {},
   "source": [
    "# Deep Dive Into Los Angles County "
   ]
  },
  {
   "cell_type": "code",
   "execution_count": null,
   "id": "aa2946b8-4db0-4d71-8476-e7d23b072375",
   "metadata": {},
   "outputs": [],
   "source": []
  }
 ],
 "metadata": {
  "kernelspec": {
   "display_name": "Python 3 (ipykernel)",
   "language": "python",
   "name": "python3"
  },
  "language_info": {
   "codemirror_mode": {
    "name": "ipython",
    "version": 3
   },
   "file_extension": ".py",
   "mimetype": "text/x-python",
   "name": "python",
   "nbconvert_exporter": "python",
   "pygments_lexer": "ipython3",
   "version": "3.11.11"
  }
 },
 "nbformat": 4,
 "nbformat_minor": 5
}
